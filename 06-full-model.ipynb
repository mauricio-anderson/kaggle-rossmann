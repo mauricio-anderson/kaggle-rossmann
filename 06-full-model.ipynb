{
 "cells": [
  {
   "cell_type": "code",
   "execution_count": 1,
   "metadata": {},
   "outputs": [
    {
     "name": "stderr",
     "output_type": "stream",
     "text": [
      "2023-02-18 18:11:53.429709: I tensorflow/core/platform/cpu_feature_guard.cc:193] This TensorFlow binary is optimized with oneAPI Deep Neural Network Library (oneDNN) to use the following CPU instructions in performance-critical operations:  AVX2 FMA\n",
      "To enable them in other operations, rebuild TensorFlow with the appropriate compiler flags.\n",
      "2023-02-18 18:11:58.749109: I tensorflow/core/platform/cpu_feature_guard.cc:193] This TensorFlow binary is optimized with oneAPI Deep Neural Network Library (oneDNN) to use the following CPU instructions in performance-critical operations:  AVX2 FMA\n",
      "To enable them in other operations, rebuild TensorFlow with the appropriate compiler flags.\n"
     ]
    }
   ],
   "source": [
    "from tensorflow.compat.v1 import ConfigProto\n",
    "from tensorflow.compat.v1 import InteractiveSession\n",
    "config = ConfigProto()\n",
    "config.gpu_options.allow_growth = True\n",
    "session = InteractiveSession(config=config)"
   ]
  },
  {
   "cell_type": "code",
   "execution_count": 2,
   "metadata": {},
   "outputs": [],
   "source": [
    "import pandas as pd\n",
    "import numpy as np\n",
    "import datetime\n",
    "from pandas_summary import DataFrameSummary"
   ]
  },
  {
   "cell_type": "code",
   "execution_count": 3,
   "metadata": {},
   "outputs": [],
   "source": [
    "from tensorflow.keras.utils import to_categorical"
   ]
  },
  {
   "cell_type": "code",
   "execution_count": 4,
   "metadata": {},
   "outputs": [],
   "source": [
    "df = pd.read_feather('train_normalized_data.fth')\n",
    "df_test = pd.read_feather('test_normalized_data.fth')"
   ]
  },
  {
   "cell_type": "code",
   "execution_count": 5,
   "metadata": {},
   "outputs": [],
   "source": [
    "cat_vars = ['Store', 'DayOfWeek', 'Year', 'Month', 'Day', 'StateHoliday', 'CompetitionMonthsOpen', 'Promo2Weeks', \n",
    "            'StoreType', 'Assortment', 'PromoInterval', 'CompetitionOpenSinceYear', 'Promo2SinceYear', 'State', \n",
    "            'Week', 'Events', 'Promo_fw', 'Promo_bw', 'StateHoliday_bool_fw', 'StateHoliday_bool_bw', 'SchoolHoliday_fw', 'SchoolHoliday_bw']\n",
    "\n",
    "cat_vars = ['Store', 'DayOfWeek']"
   ]
  },
  {
   "cell_type": "code",
   "execution_count": 6,
   "metadata": {},
   "outputs": [],
   "source": [
    "contin_vars = ['CompetitionDistance', \n",
    "   'Max_TemperatureC', 'Mean_TemperatureC', 'Min_TemperatureC', 'Precipitationmm',\n",
    "   'Max_Humidity', 'Mean_Humidity', 'Min_Humidity', 'Max_Wind_SpeedKm_h', \n",
    "   'Mean_Wind_SpeedKm_h', 'CloudCover', 'trend', 'trend_DE',\n",
    "   'AfterStateHoliday_bool', 'BeforeStateHoliday_bool', 'Promo', 'SchoolHoliday', 'StateHoliday_bool']\n",
    "contin_vars = ['BeforeStateHoliday_bool', 'Max_TemperatureC']"
   ]
  },
  {
   "cell_type": "code",
   "execution_count": 7,
   "metadata": {},
   "outputs": [],
   "source": [
    "uniques = DataFrameSummary(df[cat_vars]).summary().loc[['uniques']]"
   ]
  },
  {
   "cell_type": "code",
   "execution_count": 8,
   "metadata": {},
   "outputs": [
    {
     "data": {
      "text/html": [
       "<div>\n",
       "<style scoped>\n",
       "    .dataframe tbody tr th:only-of-type {\n",
       "        vertical-align: middle;\n",
       "    }\n",
       "\n",
       "    .dataframe tbody tr th {\n",
       "        vertical-align: top;\n",
       "    }\n",
       "\n",
       "    .dataframe thead th {\n",
       "        text-align: right;\n",
       "    }\n",
       "</style>\n",
       "<table border=\"1\" class=\"dataframe\">\n",
       "  <thead>\n",
       "    <tr style=\"text-align: right;\">\n",
       "      <th></th>\n",
       "      <th>uniques</th>\n",
       "    </tr>\n",
       "  </thead>\n",
       "  <tbody>\n",
       "    <tr>\n",
       "      <th>Store</th>\n",
       "      <td>1115</td>\n",
       "    </tr>\n",
       "    <tr>\n",
       "      <th>DayOfWeek</th>\n",
       "      <td>7</td>\n",
       "    </tr>\n",
       "  </tbody>\n",
       "</table>\n",
       "</div>"
      ],
      "text/plain": [
       "          uniques\n",
       "Store        1115\n",
       "DayOfWeek       7"
      ]
     },
     "execution_count": 8,
     "metadata": {},
     "output_type": "execute_result"
    }
   ],
   "source": [
    "uniques.T"
   ]
  },
  {
   "cell_type": "markdown",
   "metadata": {},
   "source": [
    "# Asignación de dimensión de embeddings"
   ]
  },
  {
   "cell_type": "code",
   "execution_count": 9,
   "metadata": {},
   "outputs": [],
   "source": [
    "cat_var_dict = {'Store': 50, 'DayOfWeek': 2, 'Year': 2, 'Month': 2,\n",
    "'Day': 10, 'StateHoliday': 2, 'CompetitionMonthsOpen': 2,\n",
    "'Promo2Weeks': 1, 'StoreType': 2, 'Assortment': 3, 'PromoInterval': 3,\n",
    "'CompetitionOpenSinceYear': 4, 'Promo2SinceYear': 4, 'State': 6,\n",
    "'Week': 25, 'Events': 4, 'Promo_fw': 1,\n",
    "'Promo_bw': 1, 'StateHoliday_bool_fw': 1,\n",
    "'StateHoliday_bool_bw': 1, 'SchoolHoliday_fw': 1,\n",
    "'SchoolHoliday_bw': 1}"
   ]
  },
  {
   "cell_type": "code",
   "execution_count": 10,
   "metadata": {},
   "outputs": [
    {
     "name": "stdout",
     "output_type": "stream",
     "text": [
      "Store 50 1115 [   0    1    2 ... 1112 1113 1114]\n",
      "\n",
      "DayOfWeek 2 7 [0 1 2 3 4 5 6]\n",
      "\n"
     ]
    }
   ],
   "source": [
    "for v in cat_vars:\n",
    "    uniques_ = df[v].unique()\n",
    "    uniques_.sort()\n",
    "    print(v, cat_var_dict[v], len(uniques_), uniques_)\n",
    "    print()"
   ]
  },
  {
   "cell_type": "markdown",
   "metadata": {},
   "source": [
    "# Definición de modelo"
   ]
  },
  {
   "cell_type": "code",
   "execution_count": 11,
   "metadata": {},
   "outputs": [],
   "source": [
    "add_customers = True\n",
    "log_output = False\n",
    "output_activation = 'linear'"
   ]
  },
  {
   "cell_type": "code",
   "execution_count": 12,
   "metadata": {},
   "outputs": [],
   "source": [
    "from tensorflow.keras.models import Model\n",
    "from tensorflow.keras.callbacks import ModelCheckpoint\n",
    "from tensorflow.keras.optimizers import Adam\n",
    "from tensorflow.keras.layers import Embedding, Input, Flatten, Concatenate, Dense, BatchNormalization, Activation, LeakyReLU, Dropout\n",
    "from tensorflow.keras.regularizers import l2"
   ]
  },
  {
   "cell_type": "code",
   "execution_count": 13,
   "metadata": {},
   "outputs": [],
   "source": [
    "def get_cat_vars_model(cat_vars, uniques, cat_var_dict):\n",
    "    cat_vars_embed_outs = []\n",
    "    cat_var_inputs = []\n",
    "    for cat_var in cat_vars:\n",
    "        cat_var_in = Input(shape=(1,), name=f\"{cat_var}_input\")\n",
    "        cat_var_inputs.append(cat_var_in)\n",
    "        embed_out = Embedding(uniques[cat_var][0], cat_var_dict[cat_var], name=f'{cat_var}_Embed')(cat_var_in)\n",
    "        flatten_out = Flatten(name=f\"{cat_var}_flat\")(embed_out)\n",
    "        cat_vars_embed_outs.append(flatten_out)\n",
    "    return cat_var_inputs, cat_vars_embed_outs\n",
    "\n",
    "def get_cont_vars_input(contin_vars, dense_layer=False):\n",
    "    cont_vars_inputs = []\n",
    "    cont_vars_outputs = []\n",
    "    for cont_var in contin_vars:\n",
    "        cont_var_in = Input(shape=(1,), name=f\"{cont_var}_input\")\n",
    "        cont_vars_inputs.append(cont_var_in)\n",
    "        if dense_layer:\n",
    "            cont_var_out = Dense(1, name=f\"{cont_var}_input\", activation = 'linear')(cont_var_in)\n",
    "            cont_vars_outputs.append(cont_var_out)\n",
    "        else:\n",
    "            cont_vars_outputs.append(cont_var_in)\n",
    "    return cont_vars_inputs, cont_vars_outputs"
   ]
  },
  {
   "cell_type": "code",
   "execution_count": 14,
   "metadata": {},
   "outputs": [],
   "source": [
    "cat_var_inputs, cat_vars_embed_outs = get_cat_vars_model(cat_vars, uniques, cat_var_dict)\n",
    "cont_vars_inputs,  cont_vars_outs= get_cont_vars_input(contin_vars)"
   ]
  },
  {
   "cell_type": "code",
   "execution_count": 15,
   "metadata": {},
   "outputs": [],
   "source": [
    "# Descomentar para ver resultados\n",
    "# cat_vars_embed_outs\n",
    "# cat_var_inputs\n",
    "# cont_vars_inputs\n",
    "# cont_vars_outs"
   ]
  },
  {
   "cell_type": "code",
   "execution_count": 16,
   "metadata": {},
   "outputs": [],
   "source": [
    "first_hidden_units = 1000\n",
    "second_hidden_units = 500\n",
    "l2_lambda = 1e-3\n",
    "merged = Concatenate(name='All_Concatenate')(cat_vars_embed_outs + cont_vars_inputs)\n",
    "x = Dense(first_hidden_units, kernel_initializer=\"uniform\", kernel_regularizer=l2(l2_lambda))(merged)\n",
    "# x = BatchNormalization()(x)\n",
    "x = Activation('relu')(x)\n",
    "# x = LeakyReLU()(x)\n",
    "x = Dense(second_hidden_units, kernel_initializer=\"uniform\", kernel_regularizer=l2(l2_lambda))(x)\n",
    "# x = BatchNormalization()(x)\n",
    "x = Activation('relu')(x)\n",
    "# x = LeakyReLU()(x)\n",
    "\n",
    "output_1 = Dense(1, name='Sales', activation=output_activation)(x)\n",
    "output_2 = Dense(1, name='Customers', activation=output_activation)(x)"
   ]
  },
  {
   "cell_type": "code",
   "execution_count": 17,
   "metadata": {},
   "outputs": [],
   "source": [
    "if add_customers:\n",
    "    model = Model(cat_var_inputs + cont_vars_inputs, [output_1, output_2])\n",
    "else: \n",
    "    model = Model(cat_var_inputs + cont_vars_inputs, [output_1])"
   ]
  },
  {
   "cell_type": "code",
   "execution_count": 18,
   "metadata": {},
   "outputs": [
    {
     "name": "stdout",
     "output_type": "stream",
     "text": [
      "Model: \"model\"\n",
      "__________________________________________________________________________________________________\n",
      " Layer (type)                   Output Shape         Param #     Connected to                     \n",
      "==================================================================================================\n",
      " Store_input (InputLayer)       [(None, 1)]          0           []                               \n",
      "                                                                                                  \n",
      " DayOfWeek_input (InputLayer)   [(None, 1)]          0           []                               \n",
      "                                                                                                  \n",
      " Store_Embed (Embedding)        (None, 1, 50)        55750       ['Store_input[0][0]']            \n",
      "                                                                                                  \n",
      " DayOfWeek_Embed (Embedding)    (None, 1, 2)         14          ['DayOfWeek_input[0][0]']        \n",
      "                                                                                                  \n",
      " Store_flat (Flatten)           (None, 50)           0           ['Store_Embed[0][0]']            \n",
      "                                                                                                  \n",
      " DayOfWeek_flat (Flatten)       (None, 2)            0           ['DayOfWeek_Embed[0][0]']        \n",
      "                                                                                                  \n",
      " BeforeStateHoliday_bool_input   [(None, 1)]         0           []                               \n",
      " (InputLayer)                                                                                     \n",
      "                                                                                                  \n",
      " Max_TemperatureC_input (InputL  [(None, 1)]         0           []                               \n",
      " ayer)                                                                                            \n",
      "                                                                                                  \n",
      " All_Concatenate (Concatenate)  (None, 54)           0           ['Store_flat[0][0]',             \n",
      "                                                                  'DayOfWeek_flat[0][0]',         \n",
      "                                                                  'BeforeStateHoliday_bool_input[0\n",
      "                                                                 ][0]',                           \n",
      "                                                                  'Max_TemperatureC_input[0][0]'] \n",
      "                                                                                                  \n",
      " dense (Dense)                  (None, 1000)         55000       ['All_Concatenate[0][0]']        \n",
      "                                                                                                  \n",
      " activation (Activation)        (None, 1000)         0           ['dense[0][0]']                  \n",
      "                                                                                                  \n",
      " dense_1 (Dense)                (None, 500)          500500      ['activation[0][0]']             \n",
      "                                                                                                  \n",
      " activation_1 (Activation)      (None, 500)          0           ['dense_1[0][0]']                \n",
      "                                                                                                  \n",
      " Sales (Dense)                  (None, 1)            501         ['activation_1[0][0]']           \n",
      "                                                                                                  \n",
      " Customers (Dense)              (None, 1)            501         ['activation_1[0][0]']           \n",
      "                                                                                                  \n",
      "==================================================================================================\n",
      "Total params: 612,266\n",
      "Trainable params: 612,266\n",
      "Non-trainable params: 0\n",
      "__________________________________________________________________________________________________\n"
     ]
    }
   ],
   "source": [
    "# Descomentar para ver\n",
    "model.summary()"
   ]
  },
  {
   "cell_type": "code",
   "execution_count": 19,
   "metadata": {},
   "outputs": [],
   "source": [
    "model.save_weights('initial_weights.hdf5')"
   ]
  },
  {
   "cell_type": "code",
   "execution_count": 20,
   "metadata": {},
   "outputs": [
    {
     "name": "stdout",
     "output_type": "stream",
     "text": [
      "Cantidad en val: 30188, porcentaje: 0.9642465458145908\n"
     ]
    }
   ],
   "source": [
    "df_train = df[df.Date < datetime.datetime(2015, 7, 1)]  \n",
    "df_val = df[df.Date >= datetime.datetime(2015, 7, 1)]\n",
    "print(f'Cantidad en val: {len(df_val)}, porcentaje: {len(df_train)/(len(df_train) + len(df_val))}')"
   ]
  },
  {
   "cell_type": "code",
   "execution_count": 21,
   "metadata": {},
   "outputs": [],
   "source": [
    "from matplotlib import pyplot as plt\n",
    "# plt.figure(figsize=(20,5))\n",
    "# plt.plot((df_train[df_train['Store']==1]['Sales'].values - df_train[df_train['Store']==1]['Sales'].mean())/df_train[df_train['Store']==1]['Sales'].std())\n",
    "# plt.show()\n",
    "# plt.figure(figsize=(20,5))\n",
    "# plt.plot(np.log(df_train[df_train['Store']==1]['Sales'].values)/np.max(np.log(df_train[df_train['Store']==1]['Sales'].values)))\n",
    "# plt.show()"
   ]
  },
  {
   "cell_type": "code",
   "execution_count": 22,
   "metadata": {},
   "outputs": [],
   "source": [
    "stores_mean = {}\n",
    "for store, g_df in df_train.groupby('Store'):\n",
    "    stores_mean[store] = g_df[g_df['Sales'] > 0]['Sales'].mean()"
   ]
  },
  {
   "cell_type": "code",
   "execution_count": 23,
   "metadata": {},
   "outputs": [
    {
     "name": "stderr",
     "output_type": "stream",
     "text": [
      "/var/folders/cr/lxlcgg7n0c36k6ls750lqw_w0000gp/T/ipykernel_48587/3553976367.py:1: SettingWithCopyWarning: \n",
      "A value is trying to be set on a copy of a slice from a DataFrame.\n",
      "Try using .loc[row_indexer,col_indexer] = value instead\n",
      "\n",
      "See the caveats in the documentation: https://pandas.pydata.org/pandas-docs/stable/user_guide/indexing.html#returning-a-view-versus-a-copy\n",
      "  df_train.loc[:, 'mean_by_store'] = df_train['Store'].apply(stores_mean.get)\n",
      "/var/folders/cr/lxlcgg7n0c36k6ls750lqw_w0000gp/T/ipykernel_48587/3553976367.py:2: SettingWithCopyWarning: \n",
      "A value is trying to be set on a copy of a slice from a DataFrame.\n",
      "Try using .loc[row_indexer,col_indexer] = value instead\n",
      "\n",
      "See the caveats in the documentation: https://pandas.pydata.org/pandas-docs/stable/user_guide/indexing.html#returning-a-view-versus-a-copy\n",
      "  df_val.loc[:, 'mean_by_store'] = df_val['Store'].apply(stores_mean.get)\n",
      "/var/folders/cr/lxlcgg7n0c36k6ls750lqw_w0000gp/T/ipykernel_48587/3553976367.py:4: SettingWithCopyWarning: \n",
      "A value is trying to be set on a copy of a slice from a DataFrame.\n",
      "Try using .loc[row_indexer,col_indexer] = value instead\n",
      "\n",
      "See the caveats in the documentation: https://pandas.pydata.org/pandas-docs/stable/user_guide/indexing.html#returning-a-view-versus-a-copy\n",
      "  df_train.loc[:, 'Sales_store'] = df_train['Sales'] - df_train['mean_by_store']\n",
      "/var/folders/cr/lxlcgg7n0c36k6ls750lqw_w0000gp/T/ipykernel_48587/3553976367.py:5: SettingWithCopyWarning: \n",
      "A value is trying to be set on a copy of a slice from a DataFrame.\n",
      "Try using .loc[row_indexer,col_indexer] = value instead\n",
      "\n",
      "See the caveats in the documentation: https://pandas.pydata.org/pandas-docs/stable/user_guide/indexing.html#returning-a-view-versus-a-copy\n",
      "  df_val.loc[:, 'Sales_store'] = df_val['Sales'] - df_val['mean_by_store']\n"
     ]
    }
   ],
   "source": [
    "df_train.loc[:, 'mean_by_store'] = df_train['Store'].apply(stores_mean.get)\n",
    "df_val.loc[:, 'mean_by_store'] = df_val['Store'].apply(stores_mean.get)\n",
    "\n",
    "df_train.loc[:, 'Sales_store'] = df_train['Sales'] - df_train['mean_by_store']\n",
    "df_val.loc[:, 'Sales_store'] = df_val['Sales'] - df_val['mean_by_store']"
   ]
  },
  {
   "cell_type": "code",
   "execution_count": 24,
   "metadata": {},
   "outputs": [],
   "source": [
    "from tensorflow.keras import backend as K"
   ]
  },
  {
   "cell_type": "code",
   "execution_count": 25,
   "metadata": {},
   "outputs": [],
   "source": [
    "def rmspe(y_true, y_pred):\n",
    "    return K.sqrt(K.mean(K.square((y_true - y_pred)/y_true)))"
   ]
  },
  {
   "cell_type": "code",
   "execution_count": 26,
   "metadata": {},
   "outputs": [],
   "source": [
    "def get_metric(df, sales_):\n",
    "    return np.sqrt((((df['Sales'] - sales_)/df['Sales'])**2).mean())"
   ]
  },
  {
   "cell_type": "code",
   "execution_count": 27,
   "metadata": {},
   "outputs": [
    {
     "data": {
      "text/plain": [
       "0.3071746085338871"
      ]
     },
     "execution_count": 27,
     "metadata": {},
     "output_type": "execute_result"
    }
   ],
   "source": [
    "get_metric(df_val, df_val['mean_by_store'])"
   ]
  },
  {
   "cell_type": "code",
   "execution_count": 28,
   "metadata": {},
   "outputs": [],
   "source": [
    "all_vars = cat_vars + contin_vars\n",
    "X_train = np.hsplit(df_train[all_vars].values, len(all_vars))\n",
    "X_val = np.hsplit(df_val[all_vars].values, len(all_vars))\n",
    "X_test = np.hsplit(df_test[all_vars].values, len(all_vars))"
   ]
  },
  {
   "cell_type": "code",
   "execution_count": 29,
   "metadata": {},
   "outputs": [],
   "source": [
    "if add_customers:\n",
    "    y_out_columns = ['Sales', 'Customers']\n",
    "else:\n",
    "    y_out_columns = ['Sales_store']\n",
    "    \n",
    "if log_output:\n",
    "    # Escala logaritmica\n",
    "    max_log_y = np.max(np.log(df[y_out_columns])).values\n",
    "    y_train = np.log(df_train[y_out_columns].values)/max_log_y\n",
    "    y_val = np.log(df_val[y_out_columns].values)/max_log_y\n",
    "else:\n",
    "    # Normalización\n",
    "#     y_mean = df_train[y_out_columns].mean().values\n",
    "#     y_std = df_train[y_out_columns].std().values\n",
    "#     y_train = (df_train[y_out_columns].values - y_mean)/y_std\n",
    "#     y_val = (df_val[y_out_columns].values - y_mean)/y_std\n",
    "    y_max = df_train[y_out_columns].max().values\n",
    "    y_train = df_train[y_out_columns].values/y_max\n",
    "    y_val = df_val[y_out_columns].values/y_max\n",
    "y_train = np.hsplit(y_train, y_train.shape[1])\n",
    "y_val = np.hsplit(y_val, y_val.shape[1])"
   ]
  },
  {
   "cell_type": "code",
   "execution_count": 30,
   "metadata": {},
   "outputs": [
    {
     "name": "stderr",
     "output_type": "stream",
     "text": [
      "WARNING:absl:`lr` is deprecated, please use `learning_rate` instead, or use the legacy optimizer, e.g.,tf.keras.optimizers.legacy.Adam.\n"
     ]
    }
   ],
   "source": [
    "lr = 0.001\n",
    "model.compile(optimizer=Adam(lr=lr), metrics=['mse', rmspe], loss='mse')"
   ]
  },
  {
   "cell_type": "code",
   "execution_count": 31,
   "metadata": {},
   "outputs": [],
   "source": [
    "if add_customers:\n",
    "    checkpoint = ModelCheckpoint('bestmodel.hdf5', monitor='val_Sales_mse', verbose=1, save_best_only=True)\n",
    "else:\n",
    "    checkpoint = ModelCheckpoint('bestmodel.hdf5', monitor='val_loss', verbose=1, save_best_only=True)"
   ]
  },
  {
   "cell_type": "code",
   "execution_count": 42,
   "metadata": {},
   "outputs": [
    {
     "data": {
      "text/plain": [
       "array([[0.13802315],\n",
       "       [0.23737094],\n",
       "       [0.31914996],\n",
       "       ...,\n",
       "       [0.12117639],\n",
       "       [0.10808404],\n",
       "       [0.14346225]])"
      ]
     },
     "execution_count": 42,
     "metadata": {},
     "output_type": "execute_result"
    }
   ],
   "source": [
    "y_train[0]"
   ]
  },
  {
   "cell_type": "code",
   "execution_count": 32,
   "metadata": {},
   "outputs": [
    {
     "name": "stdout",
     "output_type": "stream",
     "text": [
      "Epoch 1/20\n",
      "\n",
      "Epoch 1: val_Sales_mse improved from inf to 0.00163, saving model to bestmodel.hdf5\n",
      "3181/3181 - 27s - loss: 0.0065 - Sales_loss: 0.0023 - Customers_loss: 8.2810e-04 - Sales_mse: 0.0023 - Sales_rmspe: 0.3538 - Customers_mse: 8.2810e-04 - Customers_rmspe: 0.3181 - val_loss: 0.0025 - val_Sales_loss: 0.0016 - val_Customers_loss: 6.7711e-04 - val_Sales_mse: 0.0016 - val_Sales_rmspe: 0.2690 - val_Customers_mse: 6.7711e-04 - val_Customers_rmspe: 0.2785 - 27s/epoch - 8ms/step\n",
      "Epoch 2/20\n",
      "\n",
      "Epoch 2: val_Sales_mse improved from 0.00163 to 0.00147, saving model to bestmodel.hdf5\n",
      "3181/3181 - 26s - loss: 0.0029 - Sales_loss: 0.0021 - Customers_loss: 6.4314e-04 - Sales_mse: 0.0021 - Sales_rmspe: 0.3331 - Customers_mse: 6.4314e-04 - Customers_rmspe: 0.2958 - val_loss: 0.0020 - val_Sales_loss: 0.0015 - val_Customers_loss: 3.7060e-04 - val_Sales_mse: 0.0015 - val_Sales_rmspe: 0.2460 - val_Customers_mse: 3.7060e-04 - val_Customers_rmspe: 0.2030 - 26s/epoch - 8ms/step\n",
      "Epoch 3/20\n",
      "\n",
      "Epoch 3: val_Sales_mse did not improve from 0.00147\n",
      "3181/3181 - 26s - loss: 0.0025 - Sales_loss: 0.0019 - Customers_loss: 4.5467e-04 - Sales_mse: 0.0019 - Sales_rmspe: 0.3231 - Customers_mse: 4.5467e-04 - Customers_rmspe: 0.2616 - val_loss: 0.0020 - val_Sales_loss: 0.0015 - val_Customers_loss: 3.4964e-04 - val_Sales_mse: 0.0015 - val_Sales_rmspe: 0.2377 - val_Customers_mse: 3.4964e-04 - val_Customers_rmspe: 0.2089 - 26s/epoch - 8ms/step\n",
      "Epoch 4/20\n",
      "\n",
      "Epoch 4: val_Sales_mse improved from 0.00147 to 0.00144, saving model to bestmodel.hdf5\n",
      "3181/3181 - 26s - loss: 0.0025 - Sales_loss: 0.0019 - Customers_loss: 4.4951e-04 - Sales_mse: 0.0019 - Sales_rmspe: 0.3171 - Customers_mse: 4.4951e-04 - Customers_rmspe: 0.2542 - val_loss: 0.0019 - val_Sales_loss: 0.0014 - val_Customers_loss: 3.3933e-04 - val_Sales_mse: 0.0014 - val_Sales_rmspe: 0.2382 - val_Customers_mse: 3.3933e-04 - val_Customers_rmspe: 0.2003 - 26s/epoch - 8ms/step\n",
      "Epoch 5/20\n",
      "\n",
      "Epoch 5: val_Sales_mse did not improve from 0.00144\n",
      "3181/3181 - 26s - loss: 0.0025 - Sales_loss: 0.0019 - Customers_loss: 4.4665e-04 - Sales_mse: 0.0019 - Sales_rmspe: 0.3115 - Customers_mse: 4.4665e-04 - Customers_rmspe: 0.2500 - val_loss: 0.0020 - val_Sales_loss: 0.0016 - val_Customers_loss: 3.4183e-04 - val_Sales_mse: 0.0016 - val_Sales_rmspe: 0.2235 - val_Customers_mse: 3.4183e-04 - val_Customers_rmspe: 0.1827 - 26s/epoch - 8ms/step\n",
      "Epoch 6/20\n",
      "\n",
      "Epoch 6: val_Sales_mse did not improve from 0.00144\n",
      "3181/3181 - 27s - loss: 0.0024 - Sales_loss: 0.0019 - Customers_loss: 4.4132e-04 - Sales_mse: 0.0019 - Sales_rmspe: 0.3074 - Customers_mse: 4.4132e-04 - Customers_rmspe: 0.2453 - val_loss: 0.0020 - val_Sales_loss: 0.0015 - val_Customers_loss: 3.7437e-04 - val_Sales_mse: 0.0015 - val_Sales_rmspe: 0.2252 - val_Customers_mse: 3.7437e-04 - val_Customers_rmspe: 0.2027 - 27s/epoch - 8ms/step\n",
      "Epoch 7/20\n",
      "\n",
      "Epoch 7: val_Sales_mse improved from 0.00144 to 0.00136, saving model to bestmodel.hdf5\n",
      "3181/3181 - 26s - loss: 0.0023 - Sales_loss: 0.0018 - Customers_loss: 3.9873e-04 - Sales_mse: 0.0018 - Sales_rmspe: 0.2915 - Customers_mse: 3.9873e-04 - Customers_rmspe: 0.2203 - val_loss: 0.0018 - val_Sales_loss: 0.0014 - val_Customers_loss: 3.0070e-04 - val_Sales_mse: 0.0014 - val_Sales_rmspe: 0.2153 - val_Customers_mse: 3.0070e-04 - val_Customers_rmspe: 0.1635 - 26s/epoch - 8ms/step\n",
      "Epoch 8/20\n",
      "\n",
      "Epoch 8: val_Sales_mse did not improve from 0.00136\n",
      "3181/3181 - 26s - loss: 0.0022 - Sales_loss: 0.0017 - Customers_loss: 3.7205e-04 - Sales_mse: 0.0017 - Sales_rmspe: 0.2838 - Customers_mse: 3.7205e-04 - Customers_rmspe: 0.2105 - val_loss: 0.0018 - val_Sales_loss: 0.0014 - val_Customers_loss: 2.9344e-04 - val_Sales_mse: 0.0014 - val_Sales_rmspe: 0.2084 - val_Customers_mse: 2.9344e-04 - val_Customers_rmspe: 0.1592 - 26s/epoch - 8ms/step\n",
      "Epoch 9/20\n",
      "\n",
      "Epoch 9: val_Sales_mse improved from 0.00136 to 0.00129, saving model to bestmodel.hdf5\n",
      "3181/3181 - 26s - loss: 0.0022 - Sales_loss: 0.0017 - Customers_loss: 3.6932e-04 - Sales_mse: 0.0017 - Sales_rmspe: 0.2832 - Customers_mse: 3.6932e-04 - Customers_rmspe: 0.2093 - val_loss: 0.0017 - val_Sales_loss: 0.0013 - val_Customers_loss: 2.9773e-04 - val_Sales_mse: 0.0013 - val_Sales_rmspe: 0.2154 - val_Customers_mse: 2.9773e-04 - val_Customers_rmspe: 0.1709 - 26s/epoch - 8ms/step\n",
      "Epoch 10/20\n",
      "\n",
      "Epoch 10: val_Sales_mse improved from 0.00129 to 0.00127, saving model to bestmodel.hdf5\n",
      "3181/3181 - 26s - loss: 0.0022 - Sales_loss: 0.0017 - Customers_loss: 3.6581e-04 - Sales_mse: 0.0017 - Sales_rmspe: 0.2827 - Customers_mse: 3.6581e-04 - Customers_rmspe: 0.2079 - val_loss: 0.0017 - val_Sales_loss: 0.0013 - val_Customers_loss: 3.0588e-04 - val_Sales_mse: 0.0013 - val_Sales_rmspe: 0.2192 - val_Customers_mse: 3.0588e-04 - val_Customers_rmspe: 0.1795 - 26s/epoch - 8ms/step\n",
      "Epoch 11/20\n",
      "\n",
      "Epoch 11: val_Sales_mse did not improve from 0.00127\n",
      "3181/3181 - 26s - loss: 0.0022 - Sales_loss: 0.0017 - Customers_loss: 3.6456e-04 - Sales_mse: 0.0017 - Sales_rmspe: 0.2820 - Customers_mse: 3.6456e-04 - Customers_rmspe: 0.2069 - val_loss: 0.0017 - val_Sales_loss: 0.0013 - val_Customers_loss: 2.8912e-04 - val_Sales_mse: 0.0013 - val_Sales_rmspe: 0.2128 - val_Customers_mse: 2.8912e-04 - val_Customers_rmspe: 0.1641 - 26s/epoch - 8ms/step\n",
      "Epoch 12/20\n",
      "\n",
      "Epoch 12: val_Sales_mse did not improve from 0.00127\n",
      "3181/3181 - 26s - loss: 0.0022 - Sales_loss: 0.0017 - Customers_loss: 3.6351e-04 - Sales_mse: 0.0017 - Sales_rmspe: 0.2820 - Customers_mse: 3.6351e-04 - Customers_rmspe: 0.2068 - val_loss: 0.0017 - val_Sales_loss: 0.0013 - val_Customers_loss: 2.6587e-04 - val_Sales_mse: 0.0013 - val_Sales_rmspe: 0.2095 - val_Customers_mse: 2.6587e-04 - val_Customers_rmspe: 0.1576 - 26s/epoch - 8ms/step\n",
      "Epoch 13/20\n",
      "\n",
      "Epoch 13: val_Sales_mse did not improve from 0.00127\n",
      "3181/3181 - 26s - loss: 0.0022 - Sales_loss: 0.0017 - Customers_loss: 3.6336e-04 - Sales_mse: 0.0017 - Sales_rmspe: 0.2814 - Customers_mse: 3.6336e-04 - Customers_rmspe: 0.2060 - val_loss: 0.0017 - val_Sales_loss: 0.0013 - val_Customers_loss: 2.9529e-04 - val_Sales_mse: 0.0013 - val_Sales_rmspe: 0.2097 - val_Customers_mse: 2.9529e-04 - val_Customers_rmspe: 0.1691 - 26s/epoch - 8ms/step\n",
      "Epoch 14/20\n",
      "\n",
      "Epoch 14: val_Sales_mse did not improve from 0.00127\n",
      "3181/3181 - 26s - loss: 0.0022 - Sales_loss: 0.0017 - Customers_loss: 3.6283e-04 - Sales_mse: 0.0017 - Sales_rmspe: 0.2815 - Customers_mse: 3.6283e-04 - Customers_rmspe: 0.2056 - val_loss: 0.0017 - val_Sales_loss: 0.0013 - val_Customers_loss: 3.2044e-04 - val_Sales_mse: 0.0013 - val_Sales_rmspe: 0.2110 - val_Customers_mse: 3.2044e-04 - val_Customers_rmspe: 0.1720 - 26s/epoch - 8ms/step\n",
      "Epoch 15/20\n",
      "\n",
      "Epoch 15: val_Sales_mse did not improve from 0.00127\n",
      "3181/3181 - 26s - loss: 0.0022 - Sales_loss: 0.0017 - Customers_loss: 3.6001e-04 - Sales_mse: 0.0017 - Sales_rmspe: 0.2813 - Customers_mse: 3.6001e-04 - Customers_rmspe: 0.2049 - val_loss: 0.0017 - val_Sales_loss: 0.0013 - val_Customers_loss: 2.8270e-04 - val_Sales_mse: 0.0013 - val_Sales_rmspe: 0.2101 - val_Customers_mse: 2.8270e-04 - val_Customers_rmspe: 0.1619 - 26s/epoch - 8ms/step\n",
      "Epoch 16/20\n",
      "\n",
      "Epoch 16: val_Sales_mse did not improve from 0.00127\n",
      "3181/3181 - 26s - loss: 0.0021 - Sales_loss: 0.0017 - Customers_loss: 3.5868e-04 - Sales_mse: 0.0017 - Sales_rmspe: 0.2806 - Customers_mse: 3.5868e-04 - Customers_rmspe: 0.2045 - val_loss: 0.0018 - val_Sales_loss: 0.0013 - val_Customers_loss: 4.1725e-04 - val_Sales_mse: 0.0013 - val_Sales_rmspe: 0.2116 - val_Customers_mse: 4.1725e-04 - val_Customers_rmspe: 0.1889 - 26s/epoch - 8ms/step\n",
      "Epoch 17/20\n",
      "\n",
      "Epoch 17: val_Sales_mse did not improve from 0.00127\n",
      "3181/3181 - 26s - loss: 0.0021 - Sales_loss: 0.0017 - Customers_loss: 3.5922e-04 - Sales_mse: 0.0017 - Sales_rmspe: 0.2803 - Customers_mse: 3.5922e-04 - Customers_rmspe: 0.2045 - val_loss: 0.0017 - val_Sales_loss: 0.0013 - val_Customers_loss: 2.9338e-04 - val_Sales_mse: 0.0013 - val_Sales_rmspe: 0.2072 - val_Customers_mse: 2.9338e-04 - val_Customers_rmspe: 0.1600 - 26s/epoch - 8ms/step\n",
      "Epoch 18/20\n",
      "\n",
      "Epoch 18: val_Sales_mse did not improve from 0.00127\n",
      "3181/3181 - 26s - loss: 0.0021 - Sales_loss: 0.0017 - Customers_loss: 3.5831e-04 - Sales_mse: 0.0017 - Sales_rmspe: 0.2801 - Customers_mse: 3.5831e-04 - Customers_rmspe: 0.2043 - val_loss: 0.0017 - val_Sales_loss: 0.0013 - val_Customers_loss: 2.9826e-04 - val_Sales_mse: 0.0013 - val_Sales_rmspe: 0.2099 - val_Customers_mse: 2.9826e-04 - val_Customers_rmspe: 0.1694 - 26s/epoch - 8ms/step\n",
      "Epoch 19/20\n",
      "\n",
      "Epoch 19: val_Sales_mse did not improve from 0.00127\n",
      "3181/3181 - 26s - loss: 0.0021 - Sales_loss: 0.0017 - Customers_loss: 3.5745e-04 - Sales_mse: 0.0017 - Sales_rmspe: 0.2801 - Customers_mse: 3.5745e-04 - Customers_rmspe: 0.2041 - val_loss: 0.0017 - val_Sales_loss: 0.0013 - val_Customers_loss: 2.8952e-04 - val_Sales_mse: 0.0013 - val_Sales_rmspe: 0.2148 - val_Customers_mse: 2.8952e-04 - val_Customers_rmspe: 0.1719 - 26s/epoch - 8ms/step\n",
      "Epoch 20/20\n",
      "\n",
      "Epoch 20: val_Sales_mse did not improve from 0.00127\n",
      "3181/3181 - 26s - loss: 0.0021 - Sales_loss: 0.0017 - Customers_loss: 3.5882e-04 - Sales_mse: 0.0017 - Sales_rmspe: 0.2802 - Customers_mse: 3.5882e-04 - Customers_rmspe: 0.2045 - val_loss: 0.0017 - val_Sales_loss: 0.0013 - val_Customers_loss: 2.9732e-04 - val_Sales_mse: 0.0013 - val_Sales_rmspe: 0.2136 - val_Customers_mse: 2.9732e-04 - val_Customers_rmspe: 0.1667 - 26s/epoch - 8ms/step\n"
     ]
    }
   ],
   "source": [
    "epochs = 20\n",
    "batch_size = 256\n",
    "history = model.fit(X_train, y_train, validation_data=(X_val, y_val),  epochs=epochs, batch_size=batch_size, callbacks=[checkpoint], verbose=2)"
   ]
  },
  {
   "cell_type": "code",
   "execution_count": 33,
   "metadata": {},
   "outputs": [
    {
     "data": {
      "image/png": "[encoded data removed]",
      "text/plain": [
       "<Figure size 640x480 with 1 Axes>"
      ]
     },
     "metadata": {},
     "output_type": "display_data"
    },
    {
     "data": {
      "text/plain": [
       "[<matplotlib.lines.Line2D at 0x15d602400>]"
      ]
     },
     "execution_count": 33,
     "metadata": {},
     "output_type": "execute_result"
    },
    {
     "data": {
      "image/png": "[encoded data removed]",
      "text/plain": [
       "<Figure size 640x480 with 1 Axes>"
      ]
     },
     "metadata": {},
     "output_type": "display_data"
    }
   ],
   "source": [
    "plt.plot(history.history['val_loss'])\n",
    "# plt.plot(history.history['val_Customers_mse'])\n",
    "# plt.plot(history.history['val_Sales_mse'])\n",
    "plt.show()\n",
    "plt.plot(history.history['loss'])\n",
    "# plt.plot(history.history['Customers_mse'])\n",
    "# plt.plot(history.history['Sales_mse'])"
   ]
  },
  {
   "cell_type": "markdown",
   "metadata": {},
   "source": [
    "# Métrica"
   ]
  },
  {
   "cell_type": "markdown",
   "metadata": {},
   "source": [
    "$$\n",
    "\\textrm{RMSE} = \\sqrt{\\frac{1}{n} \\sum_{i=1}^{n} \\left(\\frac{\\hat{y}_i - y_i}{y_i}\\right)^2}\n",
    "$$"
   ]
  },
  {
   "cell_type": "code",
   "execution_count": 34,
   "metadata": {},
   "outputs": [
    {
     "name": "stdout",
     "output_type": "stream",
     "text": [
      "944/944 [==============================] - 2s 2ms/step - loss: 0.0017 - Sales_loss: 0.0013 - Customers_loss: 2.9732e-04 - Sales_mse: 0.0013 - Sales_rmspe: 0.2095 - Customers_mse: 2.9732e-04 - Customers_rmspe: 0.1626\n"
     ]
    },
    {
     "data": {
      "text/plain": [
       "[0.0017042559338733554,\n",
       " 0.0013077749172225595,\n",
       " 0.00029732417897321284,\n",
       " 0.0013077749172225595,\n",
       " 0.20946833491325378,\n",
       " 0.00029732417897321284,\n",
       " 0.1626187562942505]"
      ]
     },
     "execution_count": 34,
     "metadata": {},
     "output_type": "execute_result"
    }
   ],
   "source": [
    "model.evaluate(X_val, y_val)"
   ]
  },
  {
   "cell_type": "code",
   "execution_count": 35,
   "metadata": {},
   "outputs": [
    {
     "name": "stdout",
     "output_type": "stream",
     "text": [
      "944/944 [==============================] - 2s 2ms/step - loss: 0.0017 - Sales_loss: 0.0013 - Customers_loss: 3.0588e-04 - Sales_mse: 0.0013 - Sales_rmspe: 0.2148 - Customers_mse: 3.0588e-04 - Customers_rmspe: 0.1750\n"
     ]
    },
    {
     "data": {
      "text/plain": [
       "[0.0016967885894700885,\n",
       " 0.0012714515905827284,\n",
       " 0.0003058839647565037,\n",
       " 0.0012714515905827284,\n",
       " 0.21475280821323395,\n",
       " 0.0003058839647565037,\n",
       " 0.1749720722436905]"
      ]
     },
     "execution_count": 35,
     "metadata": {},
     "output_type": "execute_result"
    }
   ],
   "source": [
    "model.load_weights('bestmodel.hdf5')\n",
    "model.evaluate(X_val, y_val)"
   ]
  },
  {
   "cell_type": "code",
   "execution_count": 36,
   "metadata": {},
   "outputs": [],
   "source": [
    "# model.load_weights('bestmodel.hdf5')\n",
    "# model.evaluate(X_val, y_val)\n",
    "# 30188/30188 [==============================] - 5s 172us/step\n",
    "# [0.12197033089921382,\n",
    "#  0.07211007360268763,\n",
    "#  0.037183713050426136,\n",
    "#  0.07211007360268763,\n",
    "#  0.037183713050426136]\n",
    "\n",
    "# [0.12932546436786652,\n",
    "#  0.07751645147800446,\n",
    "#  0.039259567856788635,\n",
    "#  0.07751645147800446,\n",
    "#  0.039259567856788635]"
   ]
  },
  {
   "cell_type": "code",
   "execution_count": 37,
   "metadata": {},
   "outputs": [
    {
     "name": "stdout",
     "output_type": "stream",
     "text": [
      "944/944 [==============================] - 2s 2ms/step\n"
     ]
    },
    {
     "ename": "NameError",
     "evalue": "name 'y_std' is not defined",
     "output_type": "error",
     "traceback": [
      "\u001b[0;31m---------------------------------------------------------------------------\u001b[0m",
      "\u001b[0;31mNameError\u001b[0m                                 Traceback (most recent call last)",
      "Cell \u001b[0;32mIn[37], line 10\u001b[0m\n\u001b[1;32m      8\u001b[0m \u001b[38;5;28;01melse\u001b[39;00m:\n\u001b[1;32m      9\u001b[0m     \u001b[38;5;28;01mif\u001b[39;00m add_customers:\n\u001b[0;32m---> 10\u001b[0m         y_pred \u001b[38;5;241m=\u001b[39m (model\u001b[38;5;241m.\u001b[39mpredict(X_val, verbose\u001b[38;5;241m=\u001b[39m\u001b[38;5;241m1\u001b[39m)[\u001b[38;5;241m0\u001b[39m]\u001b[38;5;241m*\u001b[39m\u001b[43my_std\u001b[49m[\u001b[38;5;241m0\u001b[39m] \u001b[38;5;241m+\u001b[39m y_mean[\u001b[38;5;241m0\u001b[39m])[:,\u001b[38;5;241m0\u001b[39m]\n\u001b[1;32m     11\u001b[0m         y_pred_test \u001b[38;5;241m=\u001b[39m (model\u001b[38;5;241m.\u001b[39mpredict(X_test, verbose\u001b[38;5;241m=\u001b[39m\u001b[38;5;241m1\u001b[39m)[\u001b[38;5;241m0\u001b[39m]\u001b[38;5;241m*\u001b[39my_std[\u001b[38;5;241m0\u001b[39m] \u001b[38;5;241m+\u001b[39m y_mean[\u001b[38;5;241m0\u001b[39m])[:,\u001b[38;5;241m0\u001b[39m]\n\u001b[1;32m     12\u001b[0m     \u001b[38;5;28;01melse\u001b[39;00m:\n\u001b[1;32m     13\u001b[0m \u001b[38;5;66;03m#         y_pred = model.predict(X_val, verbose=1)[:,0]*y_std + y_mean\u001b[39;00m\n\u001b[1;32m     14\u001b[0m \u001b[38;5;66;03m#         y_pred_test = model.predict(X_test, verbose=1)[:,0]*y_std + y_mean\u001b[39;00m\n",
      "\u001b[0;31mNameError\u001b[0m: name 'y_std' is not defined"
     ]
    }
   ],
   "source": [
    "if log_output:\n",
    "    if add_customers:\n",
    "        y_pred = np.exp(model.predict(X_val, verbose=1)[0][:, 0]*max_log_y[0])\n",
    "        y_pred_test = np.exp(model.predict(X_test, verbose=1)[0][:, 0]*max_log_y[0])\n",
    "    else:\n",
    "        y_pred = np.exp(model.predict(X_val, verbose=1)*max_log_y)[:,0]\n",
    "        y_pred_test = np.exp(model.predict(X_test, verbose=1)*max_log_y)[:,0]\n",
    "else:\n",
    "    if add_customers:\n",
    "        y_pred = (model.predict(X_val, verbose=1)[0]*y_std[0] + y_mean[0])[:,0]\n",
    "        y_pred_test = (model.predict(X_test, verbose=1)[0]*y_std[0] + y_mean[0])[:,0]\n",
    "    else:\n",
    "#         y_pred = model.predict(X_val, verbose=1)[:,0]*y_std + y_mean\n",
    "#         y_pred_test = model.predict(X_test, verbose=1)[:,0]*y_std + y_mean\n",
    "        y_pred = model.predict(X_val, verbose=1)[:,0]*y_max\n",
    "        y_pred_test = model.predict(X_test, verbose=1)[:,0]*y_max\n",
    "y_pred_test[df_test['Open'] == 0] = 0"
   ]
  },
  {
   "cell_type": "code",
   "execution_count": null,
   "metadata": {},
   "outputs": [],
   "source": [
    "np.sqrt((((df_val['Sales'].values - y_pred)/df_val['Sales'].values)**2).sum()/len(y_pred))"
   ]
  },
  {
   "cell_type": "code",
   "execution_count": null,
   "metadata": {},
   "outputs": [],
   "source": [
    "y_pred_test[:10]"
   ]
  },
  {
   "cell_type": "markdown",
   "metadata": {},
   "source": [
    "# Baseline"
   ]
  },
  {
   "cell_type": "code",
   "execution_count": null,
   "metadata": {},
   "outputs": [],
   "source": [
    "import pandas as pd\n",
    "sample_csv = pd.read_csv('dataset/rossmann/sample_submission.csv')"
   ]
  },
  {
   "cell_type": "code",
   "execution_count": null,
   "metadata": {},
   "outputs": [],
   "source": [
    "stores_mean = {}\n",
    "for store, g_df in df.groupby('Store'):\n",
    "    stores_mean[store] = g_df[g_df['Sales'] > 0]['Sales'].mean()"
   ]
  },
  {
   "cell_type": "code",
   "execution_count": null,
   "metadata": {},
   "outputs": [],
   "source": [
    "df_test['Sales'] = df_test['Store'].apply(stores_mean.get)\n",
    "df_test.loc[df_test['Open'] == 0, 'Sales'] = 0"
   ]
  },
  {
   "cell_type": "code",
   "execution_count": null,
   "metadata": {},
   "outputs": [],
   "source": [
    "df_test[['Store', 'Sales']].head(10)"
   ]
  },
  {
   "cell_type": "code",
   "execution_count": null,
   "metadata": {},
   "outputs": [],
   "source": [
    "df_test[df_test['Open'] == 0][['Store', 'Sales']].head()"
   ]
  },
  {
   "cell_type": "code",
   "execution_count": null,
   "metadata": {},
   "outputs": [],
   "source": [
    "sample_csv['Sales'] = df_test['Sales']"
   ]
  },
  {
   "cell_type": "code",
   "execution_count": null,
   "metadata": {},
   "outputs": [],
   "source": [
    "sample_csv.to_csv(f'submision_baseline.csv', index=False)"
   ]
  },
  {
   "cell_type": "code",
   "execution_count": null,
   "metadata": {},
   "outputs": [],
   "source": [
    "sample_csv.head()"
   ]
  },
  {
   "cell_type": "markdown",
   "metadata": {},
   "source": [
    "# Sumbit a la competición"
   ]
  },
  {
   "cell_type": "code",
   "execution_count": null,
   "metadata": {},
   "outputs": [],
   "source": [
    "\n",
    "sample_csv = pd.read_csv('dataset/rossmann/sample_submission.csv')\n",
    "sample_csv['Sales'] = y_pred_test\n",
    "sample_csv.head()\n",
    "\n",
    "sample_csv.to_csv(f'submision_{add_customers}-{log_output}-{output_activation}-{l2_lambda}-{first_hidden_units}-{epochs}-{batch_size}-{lr}.csv', index=False)\n"
   ]
  },
  {
   "cell_type": "markdown",
   "metadata": {},
   "source": [
    "# Analisis de embedings"
   ]
  },
  {
   "cell_type": "code",
   "execution_count": null,
   "metadata": {},
   "outputs": [],
   "source": [
    "def plot_embed(layer_name, cat_names):\n",
    "    Y = model.get_layer(layer_name).get_weights()[0]\n",
    "    print(Y.shape)\n",
    "    plt.figure(figsize=(8,8))\n",
    "    plt.scatter(-Y[:, 0], -Y[:, 1])\n",
    "    for i, txt in enumerate(cat_names):\n",
    "        plt.annotate(txt, (-Y[i, 0],-Y[i, 1]), xytext = (-5, 8), textcoords = 'offset points')"
   ]
  },
  {
   "cell_type": "code",
   "execution_count": null,
   "metadata": {},
   "outputs": [],
   "source": [
    "model.load_weights('bestmodel.hdf5')\n",
    "plot_embed('DayOfWeek_Embed', ['Mon', 'Tue', 'Wed', 'Thu', 'Fri', 'Sat','Sun'])"
   ]
  },
  {
   "cell_type": "code",
   "execution_count": null,
   "metadata": {},
   "outputs": [],
   "source": [
    "plot_embed('Month_Embed', list(range(12)))"
   ]
  },
  {
   "cell_type": "code",
   "execution_count": null,
   "metadata": {},
   "outputs": [],
   "source": [
    "from sklearn.manifold import TSNE\n",
    "from sklearn.decomposition import PCA"
   ]
  },
  {
   "cell_type": "code",
   "execution_count": null,
   "metadata": {},
   "outputs": [],
   "source": [
    "day_of_week_embedding.shape"
   ]
  },
  {
   "cell_type": "code",
   "execution_count": null,
   "metadata": {},
   "outputs": [],
   "source": [
    "tsne = TSNE(n_components=2, random_state=1, learning_rate=10, n_iter=10000)\n",
    "Y = tsne.fit_transform(day_of_week_embedding)\n",
    "names = ['Mon', 'Tue', 'Wed', 'Thu', 'Fri', 'Sat','Sun']\n",
    "plt.figure(figsize=(8,8))\n",
    "plt.scatter(-Y[:, 0], -Y[:, 1])\n",
    "for i, txt in enumerate(names):\n",
    "    plt.annotate(txt, (-Y[i, 0],-Y[i, 1]), xytext = (-5, 8), textcoords = 'offset points')"
   ]
  },
  {
   "cell_type": "code",
   "execution_count": null,
   "metadata": {},
   "outputs": [],
   "source": [
    "cat_vars"
   ]
  },
  {
   "cell_type": "markdown",
   "metadata": {},
   "source": [
    "## Store embeddings"
   ]
  },
  {
   "cell_type": "code",
   "execution_count": null,
   "metadata": {},
   "outputs": [],
   "source": [
    "submodel = Model(cat_var_inputs + cont_vars_inputs, merged)"
   ]
  },
  {
   "cell_type": "code",
   "execution_count": null,
   "metadata": {},
   "outputs": [],
   "source": [
    "submodel.summary()"
   ]
  },
  {
   "cell_type": "code",
   "execution_count": null,
   "metadata": {},
   "outputs": [],
   "source": [
    "submodel.save('embeddings_model.hdf5')"
   ]
  },
  {
   "cell_type": "code",
   "execution_count": null,
   "metadata": {},
   "outputs": [],
   "source": []
  }
 ],
 "metadata": {
  "kernelspec": {
   "display_name": "kaggle-rossmann",
   "language": "python",
   "name": "kaggle-rossmann"
  },
  "language_info": {
   "codemirror_mode": {
    "name": "ipython",
    "version": 3
   },
   "file_extension": ".py",
   "mimetype": "text/x-python",
   "name": "python",
   "nbconvert_exporter": "python",
   "pygments_lexer": "ipython3",
   "version": "3.9.16"
  }
 },
 "nbformat": 4,
 "nbformat_minor": 4
}
