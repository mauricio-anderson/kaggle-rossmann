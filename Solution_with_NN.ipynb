{
 "cells": [
  {
   "cell_type": "code",
   "execution_count": 1,
   "metadata": {},
   "outputs": [],
   "source": [
    "%load_ext autoreload\n",
    "%autoreload 2"
   ]
  },
  {
   "cell_type": "code",
   "execution_count": 2,
   "metadata": {},
   "outputs": [],
   "source": [
    "import pandas as pd\n",
    "import numpy as np\n",
    "import seaborn as sns\n",
    "import datetime as dt\n",
    "from pandas_summary import DataFrameSummary"
   ]
  },
  {
   "cell_type": "code",
   "execution_count": 3,
   "metadata": {},
   "outputs": [],
   "source": [
    "# Evitar warnings molestos\n",
    "import absl.logging\n",
    "absl.logging.set_verbosity(absl.logging.ERROR)\n",
    "\n",
    "import warnings\n",
    "warnings.filterwarnings('ignore')"
   ]
  },
  {
   "cell_type": "code",
   "execution_count": 4,
   "metadata": {},
   "outputs": [],
   "source": [
    "df = pd.read_feather('train_normalized_data.fth')\n",
    "df_test = pd.read_feather('test_normalized_data.fth')"
   ]
  },
  {
   "cell_type": "code",
   "execution_count": 5,
   "metadata": {},
   "outputs": [
    {
     "data": {
      "text/html": [
       "<div>\n",
       "<style scoped>\n",
       "    .dataframe tbody tr th:only-of-type {\n",
       "        vertical-align: middle;\n",
       "    }\n",
       "\n",
       "    .dataframe tbody tr th {\n",
       "        vertical-align: top;\n",
       "    }\n",
       "\n",
       "    .dataframe thead th {\n",
       "        text-align: right;\n",
       "    }\n",
       "</style>\n",
       "<table border=\"1\" class=\"dataframe\">\n",
       "  <thead>\n",
       "    <tr style=\"text-align: right;\">\n",
       "      <th></th>\n",
       "      <th>index</th>\n",
       "      <th>Store</th>\n",
       "      <th>DayOfWeek</th>\n",
       "      <th>Date</th>\n",
       "      <th>Sales</th>\n",
       "      <th>Customers</th>\n",
       "      <th>Open</th>\n",
       "      <th>Promo</th>\n",
       "      <th>StateHoliday</th>\n",
       "      <th>SchoolHoliday</th>\n",
       "      <th>...</th>\n",
       "      <th>AfterStateHoliday_bool</th>\n",
       "      <th>BeforeStateHoliday_bool</th>\n",
       "      <th>AfterPromo</th>\n",
       "      <th>BeforePromo</th>\n",
       "      <th>SchoolHoliday_bw</th>\n",
       "      <th>StateHoliday_bool_bw</th>\n",
       "      <th>Promo_bw</th>\n",
       "      <th>SchoolHoliday_fw</th>\n",
       "      <th>StateHoliday_bool_fw</th>\n",
       "      <th>Promo_fw</th>\n",
       "    </tr>\n",
       "  </thead>\n",
       "  <tbody>\n",
       "    <tr>\n",
       "      <th>0</th>\n",
       "      <td>0</td>\n",
       "      <td>0</td>\n",
       "      <td>4</td>\n",
       "      <td>2015-07-31</td>\n",
       "      <td>5263</td>\n",
       "      <td>555</td>\n",
       "      <td>1</td>\n",
       "      <td>1.273237</td>\n",
       "      <td>0</td>\n",
       "      <td>2.144211</td>\n",
       "      <td>...</td>\n",
       "      <td>0.644376</td>\n",
       "      <td>1.072424</td>\n",
       "      <td>0</td>\n",
       "      <td>0</td>\n",
       "      <td>5</td>\n",
       "      <td>0</td>\n",
       "      <td>5</td>\n",
       "      <td>1</td>\n",
       "      <td>0</td>\n",
       "      <td>1</td>\n",
       "    </tr>\n",
       "    <tr>\n",
       "      <th>1</th>\n",
       "      <td>1</td>\n",
       "      <td>1</td>\n",
       "      <td>4</td>\n",
       "      <td>2015-07-31</td>\n",
       "      <td>6064</td>\n",
       "      <td>625</td>\n",
       "      <td>1</td>\n",
       "      <td>1.273237</td>\n",
       "      <td>0</td>\n",
       "      <td>2.144211</td>\n",
       "      <td>...</td>\n",
       "      <td>0.965073</td>\n",
       "      <td>1.072424</td>\n",
       "      <td>0</td>\n",
       "      <td>0</td>\n",
       "      <td>5</td>\n",
       "      <td>0</td>\n",
       "      <td>5</td>\n",
       "      <td>1</td>\n",
       "      <td>0</td>\n",
       "      <td>1</td>\n",
       "    </tr>\n",
       "    <tr>\n",
       "      <th>2</th>\n",
       "      <td>2</td>\n",
       "      <td>2</td>\n",
       "      <td>4</td>\n",
       "      <td>2015-07-31</td>\n",
       "      <td>8314</td>\n",
       "      <td>821</td>\n",
       "      <td>1</td>\n",
       "      <td>1.273237</td>\n",
       "      <td>0</td>\n",
       "      <td>2.144211</td>\n",
       "      <td>...</td>\n",
       "      <td>0.644376</td>\n",
       "      <td>1.072424</td>\n",
       "      <td>0</td>\n",
       "      <td>0</td>\n",
       "      <td>5</td>\n",
       "      <td>0</td>\n",
       "      <td>5</td>\n",
       "      <td>1</td>\n",
       "      <td>0</td>\n",
       "      <td>1</td>\n",
       "    </tr>\n",
       "    <tr>\n",
       "      <th>3</th>\n",
       "      <td>3</td>\n",
       "      <td>3</td>\n",
       "      <td>4</td>\n",
       "      <td>2015-07-31</td>\n",
       "      <td>13995</td>\n",
       "      <td>1498</td>\n",
       "      <td>1</td>\n",
       "      <td>1.273237</td>\n",
       "      <td>0</td>\n",
       "      <td>2.144211</td>\n",
       "      <td>...</td>\n",
       "      <td>0.965073</td>\n",
       "      <td>1.072424</td>\n",
       "      <td>0</td>\n",
       "      <td>0</td>\n",
       "      <td>5</td>\n",
       "      <td>0</td>\n",
       "      <td>5</td>\n",
       "      <td>1</td>\n",
       "      <td>0</td>\n",
       "      <td>1</td>\n",
       "    </tr>\n",
       "    <tr>\n",
       "      <th>4</th>\n",
       "      <td>4</td>\n",
       "      <td>4</td>\n",
       "      <td>4</td>\n",
       "      <td>2015-07-31</td>\n",
       "      <td>4822</td>\n",
       "      <td>559</td>\n",
       "      <td>1</td>\n",
       "      <td>1.273237</td>\n",
       "      <td>0</td>\n",
       "      <td>2.144211</td>\n",
       "      <td>...</td>\n",
       "      <td>0.644376</td>\n",
       "      <td>1.072424</td>\n",
       "      <td>0</td>\n",
       "      <td>0</td>\n",
       "      <td>5</td>\n",
       "      <td>0</td>\n",
       "      <td>5</td>\n",
       "      <td>1</td>\n",
       "      <td>0</td>\n",
       "      <td>1</td>\n",
       "    </tr>\n",
       "  </tbody>\n",
       "</table>\n",
       "<p>5 rows × 82 columns</p>\n",
       "</div>"
      ],
      "text/plain": [
       "   index  Store  DayOfWeek       Date  Sales  Customers  Open     Promo  \\\n",
       "0      0      0          4 2015-07-31   5263        555     1  1.273237   \n",
       "1      1      1          4 2015-07-31   6064        625     1  1.273237   \n",
       "2      2      2          4 2015-07-31   8314        821     1  1.273237   \n",
       "3      3      3          4 2015-07-31  13995       1498     1  1.273237   \n",
       "4      4      4          4 2015-07-31   4822        559     1  1.273237   \n",
       "\n",
       "   StateHoliday  SchoolHoliday  ...  AfterStateHoliday_bool  \\\n",
       "0             0       2.144211  ...                0.644376   \n",
       "1             0       2.144211  ...                0.965073   \n",
       "2             0       2.144211  ...                0.644376   \n",
       "3             0       2.144211  ...                0.965073   \n",
       "4             0       2.144211  ...                0.644376   \n",
       "\n",
       "   BeforeStateHoliday_bool  AfterPromo  BeforePromo  SchoolHoliday_bw  \\\n",
       "0                 1.072424           0            0                 5   \n",
       "1                 1.072424           0            0                 5   \n",
       "2                 1.072424           0            0                 5   \n",
       "3                 1.072424           0            0                 5   \n",
       "4                 1.072424           0            0                 5   \n",
       "\n",
       "   StateHoliday_bool_bw  Promo_bw  SchoolHoliday_fw  StateHoliday_bool_fw  \\\n",
       "0                     0         5                 1                     0   \n",
       "1                     0         5                 1                     0   \n",
       "2                     0         5                 1                     0   \n",
       "3                     0         5                 1                     0   \n",
       "4                     0         5                 1                     0   \n",
       "\n",
       "   Promo_fw  \n",
       "0         1  \n",
       "1         1  \n",
       "2         1  \n",
       "3         1  \n",
       "4         1  \n",
       "\n",
       "[5 rows x 82 columns]"
      ]
     },
     "execution_count": 5,
     "metadata": {},
     "output_type": "execute_result"
    }
   ],
   "source": [
    "df.head()"
   ]
  },
  {
   "cell_type": "code",
   "execution_count": null,
   "metadata": {},
   "outputs": [],
   "source": []
  },
  {
   "cell_type": "markdown",
   "metadata": {},
   "source": [
    "## Train / Test / Valid split"
   ]
  },
  {
   "cell_type": "code",
   "execution_count": 6,
   "metadata": {},
   "outputs": [
    {
     "data": {
      "text/plain": [
       "(Timestamp('2013-01-01 00:00:00'),\n",
       " Timestamp('2015-07-31 00:00:00'),\n",
       " Timestamp('2015-08-01 00:00:00'),\n",
       " Timestamp('2015-09-17 00:00:00'))"
      ]
     },
     "execution_count": 6,
     "metadata": {},
     "output_type": "execute_result"
    }
   ],
   "source": [
    "df[\"Date\"].min(), df[\"Date\"].max(), df_test[\"Date\"].min(), df_test[\"Date\"].max()"
   ]
  },
  {
   "cell_type": "code",
   "execution_count": 7,
   "metadata": {},
   "outputs": [
    {
     "data": {
      "text/plain": [
       "(0.96, 0.04, 844338, 30188)"
      ]
     },
     "execution_count": 7,
     "metadata": {},
     "output_type": "execute_result"
    }
   ],
   "source": [
    "df_train = df[df.Date < dt.datetime(2015, 7, 1)]  \n",
    "df_val = df[df.Date >= dt.datetime(2015, 7, 1)]\n",
    "round(len(df_train)/len(df), 2), round(len(df_val)/len(df), 2), len(df), len(df_val)"
   ]
  },
  {
   "cell_type": "code",
   "execution_count": 8,
   "metadata": {},
   "outputs": [],
   "source": [
    "df_train = df_train[~(\n",
    "        (df_train.Sales > df_train.Sales.quantile(.975)) | \n",
    "        (df_train.Sales < df_train.Sales.quantile(.025))\n",
    ")]  # Elimino outliers"
   ]
  },
  {
   "cell_type": "code",
   "execution_count": 9,
   "metadata": {},
   "outputs": [],
   "source": [
    "# sns.histplot(data=df_train, x=\"Sales\")\n",
    "\n",
    "# df_train[\"Sales_log\"] = np.log(df_train.Sales)\n",
    "# sns.histplot(data=df_train, x=\"Sales_log\")"
   ]
  },
  {
   "cell_type": "code",
   "execution_count": null,
   "metadata": {},
   "outputs": [],
   "source": []
  },
  {
   "cell_type": "markdown",
   "metadata": {},
   "source": [
    "## Feature Eng"
   ]
  },
  {
   "cell_type": "code",
   "execution_count": 10,
   "metadata": {},
   "outputs": [],
   "source": [
    "# WeekOfYear\n",
    "df_train['WeekOfYear'] = df_train['Date'].dt.isocalendar().week.astype(str)\n",
    "df_val['WeekOfYear'] = df_val['Date'].dt.isocalendar().week.astype(str)\n",
    "df_test['WeekOfYear'] = df_test['Date'].dt.isocalendar().week.astype(str)\n",
    "df['WeekOfYear'] = df['Date'].dt.isocalendar().week.astype(str)"
   ]
  },
  {
   "cell_type": "markdown",
   "metadata": {},
   "source": [
    "## Feature encoding"
   ]
  },
  {
   "cell_type": "code",
   "execution_count": 11,
   "metadata": {},
   "outputs": [
    {
     "name": "stderr",
     "output_type": "stream",
     "text": [
      "2023-02-20 02:47:33.992565: I tensorflow/core/platform/cpu_feature_guard.cc:193] This TensorFlow binary is optimized with oneAPI Deep Neural Network Library (oneDNN) to use the following CPU instructions in performance-critical operations:  AVX2 AVX512F AVX512_VNNI FMA\n",
      "To enable them in other operations, rebuild TensorFlow with the appropriate compiler flags.\n"
     ]
    }
   ],
   "source": [
    "from tensorflow.keras.layers import Embedding, Input, Flatten, Concatenate"
   ]
  },
  {
   "cell_type": "code",
   "execution_count": 12,
   "metadata": {},
   "outputs": [],
   "source": [
    "contin_vars = [\n",
    "    'CompetitionDistance', \n",
    "    'Promo', \n",
    "    'SchoolHoliday',    \n",
    "    'StateHoliday_bool',  # 'AfterStateHoliday_bool', 'BeforeStateHoliday_bool', \n",
    "\n",
    "    'CloudCover',\n",
    "    'Precipitationmm',   \n",
    "    'Max_TemperatureC',  # 'Mean_TemperatureC',   'Min_TemperatureC', \n",
    "    'Max_Humidity',  # 'Mean_Humidity', 'Min_Humidity', \n",
    "    'Max_Wind_SpeedKm_h',  # 'Mean_Wind_SpeedKm_h',\n",
    "\n",
    "    # 'trend', 'trend_DE', \n",
    "]"
   ]
  },
  {
   "cell_type": "code",
   "execution_count": 13,
   "metadata": {},
   "outputs": [],
   "source": [
    "cat_vars = [\n",
    "    'Store', \n",
    "    'StoreType',\n",
    "    'Assortment',\n",
    "    'CompetitionMonthsOpen', \n",
    "    'CompetitionOpenSinceYear',  \n",
    "    # 'CompetitionOpenSinceMonth'\n",
    "    'State', \n",
    "    'Events', \n",
    "    'Promo2SinceYear', \n",
    "    'Promo2Weeks',\n",
    "    'PromoInterval', \n",
    "    'Promo_fw', 'Promo_bw', \n",
    "    'StateHoliday_bool_fw', 'StateHoliday_bool_bw', \n",
    "    'SchoolHoliday_fw', 'SchoolHoliday_bw',\n",
    "    'Year', \n",
    "    'Month', \n",
    "    'Day', \n",
    "    'Week', \n",
    "    'DayOfWeek',  \n",
    "    # 'WeekOfYear'\n",
    "]  "
   ]
  },
  {
   "cell_type": "code",
   "execution_count": 14,
   "metadata": {},
   "outputs": [],
   "source": [
    "uniques = DataFrameSummary(df[cat_vars]).summary().loc[['uniques']]\n",
    "# uniques"
   ]
  },
  {
   "cell_type": "code",
   "execution_count": 15,
   "metadata": {},
   "outputs": [],
   "source": [
    "# Asignación de dimensión de embeddings\n",
    "cat_var_dict = {\n",
    "    \"Store\":50,\n",
    "    \n",
    "    \"State\":6,\n",
    "    \"Events\":4,    \n",
    " \n",
    "    \"StoreType\":2,\n",
    "    \"Assortment\": 3,\n",
    "   \n",
    "    \"Promo_fw\":1,\n",
    "    \"Promo_bw\":1,\n",
    "    \"Promo2Weeks\":1,\n",
    "    \"Promo2SinceYear\":4,\n",
    "    \"PromoInterval\":3,\n",
    "    \n",
    "    \n",
    "    \"StateHoliday\":3,  # 2\n",
    "    \"StateHoliday_bool_fw\":1,\n",
    "    \"StateHoliday_bool_bw\":1,\n",
    "    \n",
    "    \"SchoolHoliday_fw\":1,\n",
    "    \"SchoolHoliday_bw\":1,\n",
    "    \n",
    "    \"CompetitionMonthsOpen\":2,\n",
    "    \"CompetitionOpenSinceYear\":4,\n",
    "\n",
    "    \"Year\":2,\n",
    "    \"Month\":6,  # 2 \n",
    "    \"Day\":10,  # 4\n",
    "    \"DayOfWeek\":6,  # 2\n",
    "    \"Week\":4,\n",
    "    \"WeekOfYear\":4\n",
    "}"
   ]
  },
  {
   "cell_type": "code",
   "execution_count": 16,
   "metadata": {},
   "outputs": [],
   "source": [
    "from tensorflow.keras.layers import Dense\n",
    "from tensorflow.keras.regularizers import l2\n",
    "\n",
    "l2_lambda = 0.001\n",
    "\n",
    "\n",
    "def get_cat_vars_model(cat_vars, uniques, cat_var_dict):\n",
    "\n",
    "    cat_vars_embed_outs = []\n",
    "    cat_var_inputs = []\n",
    "    \n",
    "    for cat_var in cat_vars:\n",
    "        \n",
    "        cat_var_in = Input(shape=(1,), name=f\"{cat_var}_input\")\n",
    "        \n",
    "        cat_var_inputs.append(cat_var_in)\n",
    "        \n",
    "        embed_out = Embedding(\n",
    "            uniques[cat_var][0],  # Dimencion de entrada\n",
    "            cat_var_dict[cat_var],  # Dimencion de salida\n",
    "            # embeddings_regularizer=l2(l2_lambda),  # no ayuda\n",
    "            name=f'{cat_var}_Embed'\n",
    "        )(cat_var_in)\n",
    "        \n",
    "        flatten_out = Flatten(\n",
    "            name=f\"{cat_var}_flat\"\n",
    "        )(embed_out)\n",
    "        \n",
    "        cat_vars_embed_outs.append(flatten_out)\n",
    "\n",
    "    return cat_var_inputs, cat_vars_embed_outs\n",
    "\n",
    "\n",
    "def get_cont_vars_input(contin_vars, dense_layer=False):\n",
    "    \n",
    "    cont_vars_inputs = []\n",
    "    cont_vars_outputs = []\n",
    "    \n",
    "    for cont_var in contin_vars:\n",
    "        \n",
    "        cont_var_in = Input(shape=(1,), name=f\"{cont_var}_input\")\n",
    "        \n",
    "        cont_vars_inputs.append(cont_var_in)\n",
    "        \n",
    "        if dense_layer:\n",
    "            cont_var_out = Dense(1, name=f\"{cont_var}_input\", activation = 'linear')(cont_var_in)\n",
    "            cont_vars_outputs.append(cont_var_out)\n",
    "        else:\n",
    "            cont_vars_outputs.append(cont_var_in)\n",
    "\n",
    "    return cont_vars_inputs, cont_vars_outputs"
   ]
  },
  {
   "cell_type": "code",
   "execution_count": 17,
   "metadata": {},
   "outputs": [
    {
     "name": "stderr",
     "output_type": "stream",
     "text": [
      "2023-02-20 02:47:41.349647: I tensorflow/core/platform/cpu_feature_guard.cc:193] This TensorFlow binary is optimized with oneAPI Deep Neural Network Library (oneDNN) to use the following CPU instructions in performance-critical operations:  AVX2 AVX512F AVX512_VNNI FMA\n",
      "To enable them in other operations, rebuild TensorFlow with the appropriate compiler flags.\n"
     ]
    }
   ],
   "source": [
    "cat_var_inputs, cat_vars_embed_outs = get_cat_vars_model(cat_vars, uniques, cat_var_dict)\n",
    "cont_vars_inputs,  cont_vars_outs= get_cont_vars_input(contin_vars, True)"
   ]
  },
  {
   "cell_type": "code",
   "execution_count": 18,
   "metadata": {},
   "outputs": [],
   "source": [
    "model_encoded_input = Concatenate(name='All_Concatenate')(\n",
    "    cat_vars_embed_outs + cont_vars_inputs\n",
    ")"
   ]
  },
  {
   "cell_type": "code",
   "execution_count": null,
   "metadata": {},
   "outputs": [],
   "source": []
  },
  {
   "cell_type": "markdown",
   "metadata": {},
   "source": [
    "## Dataset"
   ]
  },
  {
   "cell_type": "code",
   "execution_count": 19,
   "metadata": {},
   "outputs": [],
   "source": [
    "log_output = False"
   ]
  },
  {
   "cell_type": "code",
   "execution_count": 20,
   "metadata": {},
   "outputs": [],
   "source": [
    "# Input\n",
    "all_vars = cat_vars + contin_vars\n",
    "\n",
    "X_train = np.hsplit(df_train[all_vars].values, len(all_vars))\n",
    "X_val = np.hsplit(df_val[all_vars].values, len(all_vars))\n",
    "X_test = np.hsplit(df_test[all_vars].values, len(all_vars))\n",
    "\n",
    "# Target\n",
    "y_out_columns = [\"Sales\"]\n",
    "\n",
    "if log_output:\n",
    "    max_log_y = np.max(np.log(df_train[y_out_columns])).values\n",
    "    y_train = np.log(df_train[y_out_columns].values)/max_log_y\n",
    "    y_val = np.log(df_val[y_out_columns].values)/max_log_y\n",
    "else:\n",
    "    y_max = df_train[y_out_columns].max().values\n",
    "    y_train = df_train[y_out_columns].values/y_max\n",
    "    y_val = df_val[y_out_columns].values/y_max"
   ]
  },
  {
   "cell_type": "code",
   "execution_count": null,
   "metadata": {},
   "outputs": [],
   "source": []
  },
  {
   "cell_type": "markdown",
   "metadata": {},
   "source": [
    "## Neural Network"
   ]
  },
  {
   "cell_type": "code",
   "execution_count": 21,
   "metadata": {},
   "outputs": [],
   "source": [
    "from tensorflow.keras.models import Model\n",
    "from tensorflow.keras.callbacks import ModelCheckpoint, EarlyStopping, TensorBoard\n",
    "from tensorflow.keras.optimizers import Adam, Nadam, RMSprop\n",
    "from tensorflow.keras.layers import (\n",
    "    Embedding, Input, Flatten, Concatenate, Dense, \n",
    "    BatchNormalization, Activation, Dropout\n",
    ")\n",
    "from tensorflow.keras.regularizers import l2\n",
    "from tensorflow.keras import backend as K"
   ]
  },
  {
   "cell_type": "code",
   "execution_count": 22,
   "metadata": {},
   "outputs": [],
   "source": [
    "# Metrics\n",
    "def rmspe(y_true, y_pred):\n",
    "    return K.sqrt(K.mean(K.square((y_true - y_pred)/y_true)))"
   ]
  },
  {
   "cell_type": "code",
   "execution_count": 23,
   "metadata": {},
   "outputs": [],
   "source": [
    "# EarlyStopping\n",
    "early_stopping = EarlyStopping(\n",
    "    monitor='val_loss',\n",
    "    patience=10,                 # number of epochs with no improvement (0 means the training \n",
    "                                 # is terminated as soon as the performance measure gets worse \n",
    "                                 # from one epoch to the next)\n",
    "    restore_best_weights=True\n",
    ")"
   ]
  },
  {
   "cell_type": "code",
   "execution_count": 24,
   "metadata": {},
   "outputs": [],
   "source": [
    "# Tensorboard\n",
    "tensorboard = TensorBoard(\n",
    "    log_dir=\"logs/fit/model-default\",\n",
    "    histogram_freq=1,\n",
    "    write_graph=False,\n",
    "    write_images=False\n",
    ")"
   ]
  },
  {
   "cell_type": "code",
   "execution_count": 25,
   "metadata": {},
   "outputs": [],
   "source": [
    "# ModelCheckpoint\n",
    "mcp = ModelCheckpoint(\n",
    "    'best_val_rmspe.hdf5', \n",
    "    monitor='val_rmspe', \n",
    "    mode='min', \n",
    "    verbose=1, \n",
    "    save_best_only=True\n",
    ")"
   ]
  },
  {
   "cell_type": "code",
   "execution_count": 26,
   "metadata": {},
   "outputs": [],
   "source": [
    "# Model\n",
    "output_activation = \"sigmoid\"  # 'linear'\n",
    "\n",
    "hidden_activation = \"relu\"\n",
    "kernel_initializer = \"uniform\"\n",
    "\n",
    "layers_config = [\n",
    "    {\"hidden_units\": 1000},\n",
    "    {\"hidden_units\": 500},\n",
    "    {\"hidden_units\": 100},\n",
    "]\n",
    "\n",
    "x = None\n",
    "\n",
    "for n_layer, layer in enumerate(layers_config):\n",
    "\n",
    "    x = Dropout(rate=0.02)(model_encoded_input if n_layer==0 else x)\n",
    "    \n",
    "    x = Dense(\n",
    "        layer[\"hidden_units\"], \n",
    "        kernel_initializer=kernel_initializer,\n",
    "        activation=hidden_activation\n",
    "    )(x)\n",
    "\n",
    "output_sales = Dense(1, name='Sales', activation=output_activation)(x)"
   ]
  },
  {
   "cell_type": "code",
   "execution_count": 27,
   "metadata": {},
   "outputs": [],
   "source": [
    "model = Model(cat_var_inputs + cont_vars_inputs, [output_sales])"
   ]
  },
  {
   "cell_type": "code",
   "execution_count": 28,
   "metadata": {
    "tags": []
   },
   "outputs": [],
   "source": [
    "# model.summary()"
   ]
  },
  {
   "cell_type": "code",
   "execution_count": 29,
   "metadata": {},
   "outputs": [],
   "source": [
    "model.compile(\n",
    "    optimizer=Adam(), # RMSprop, Adam, Nadam\n",
    "    loss=\"mean_absolute_error\",\n",
    "    metrics=[rmspe]\n",
    ")"
   ]
  },
  {
   "cell_type": "code",
   "execution_count": 30,
   "metadata": {},
   "outputs": [
    {
     "name": "stdout",
     "output_type": "stream",
     "text": [
      "Known TensorBoard instances:\n",
      "  - port 6006: logdir logs/fit (started 2 days, 6:10:14 ago; pid 29744)\n",
      "  - port 6007: logdir logs/fit/ (started 1 day, 5:27:57 ago; pid 50796)\n"
     ]
    }
   ],
   "source": [
    "## Tensorboard\n",
    "from tensorboard import notebook\n",
    "notebook.list() \n",
    "\n",
    "# %tensorboard --logdir logs/fit/\n",
    "# !tensorboard --logdir logs/fit/ --port 6007 -> Run in your cli"
   ]
  },
  {
   "cell_type": "code",
   "execution_count": 31,
   "metadata": {
    "tags": []
   },
   "outputs": [
    {
     "name": "stdout",
     "output_type": "stream",
     "text": [
      "Epoch 1/20\n",
      "6043/6043 [==============================] - 76s 12ms/step - loss: 0.0419 - rmspe: 0.1309 - val_loss: 0.0462 - val_rmspe: 0.1273\n",
      "Epoch 2/20\n",
      "6043/6043 [==============================] - 82s 14ms/step - loss: 0.0329 - rmspe: 0.1022 - val_loss: 0.0462 - val_rmspe: 0.1253\n",
      "Epoch 3/20\n",
      "6043/6043 [==============================] - 78s 13ms/step - loss: 0.0309 - rmspe: 0.0966 - val_loss: 0.0458 - val_rmspe: 0.1239\n",
      "Epoch 4/20\n",
      "6043/6043 [==============================] - 75s 12ms/step - loss: 0.0296 - rmspe: 0.0929 - val_loss: 0.0446 - val_rmspe: 0.1227\n",
      "Epoch 5/20\n",
      "6043/6043 [==============================] - 77s 13ms/step - loss: 0.0286 - rmspe: 0.0902 - val_loss: 0.0437 - val_rmspe: 0.1202\n",
      "Epoch 6/20\n",
      "6043/6043 [==============================] - 77s 13ms/step - loss: 0.0279 - rmspe: 0.0881 - val_loss: 0.0432 - val_rmspe: 0.1185\n",
      "Epoch 7/20\n",
      "6043/6043 [==============================] - 77s 13ms/step - loss: 0.0273 - rmspe: 0.0865 - val_loss: 0.0429 - val_rmspe: 0.1227\n",
      "Epoch 8/20\n",
      "6043/6043 [==============================] - 74s 12ms/step - loss: 0.0269 - rmspe: 0.0852 - val_loss: 0.0421 - val_rmspe: 0.1168\n",
      "Epoch 9/20\n",
      "6043/6043 [==============================] - 75s 12ms/step - loss: 0.0265 - rmspe: 0.0841 - val_loss: 0.0411 - val_rmspe: 0.1164\n",
      "Epoch 10/20\n",
      "6043/6043 [==============================] - 76s 13ms/step - loss: 0.0262 - rmspe: 0.0832 - val_loss: 0.0414 - val_rmspe: 0.1160\n",
      "Epoch 11/20\n",
      "6043/6043 [==============================] - 76s 13ms/step - loss: 0.0259 - rmspe: 0.0823 - val_loss: 0.0424 - val_rmspe: 0.1198\n",
      "Epoch 12/20\n",
      "6043/6043 [==============================] - 76s 13ms/step - loss: 0.0256 - rmspe: 0.0816 - val_loss: 0.0425 - val_rmspe: 0.1193\n",
      "Epoch 13/20\n",
      "6043/6043 [==============================] - 73s 12ms/step - loss: 0.0254 - rmspe: 0.0809 - val_loss: 0.0430 - val_rmspe: 0.1162\n",
      "Epoch 14/20\n",
      "6043/6043 [==============================] - 72s 12ms/step - loss: 0.0251 - rmspe: 0.0802 - val_loss: 0.0407 - val_rmspe: 0.1183\n",
      "Epoch 15/20\n",
      "6043/6043 [==============================] - 73s 12ms/step - loss: 0.0249 - rmspe: 0.0796 - val_loss: 0.0411 - val_rmspe: 0.1196\n",
      "Epoch 16/20\n",
      "6043/6043 [==============================] - 72s 12ms/step - loss: 0.0248 - rmspe: 0.0792 - val_loss: 0.0415 - val_rmspe: 0.1199\n",
      "Epoch 17/20\n",
      "6043/6043 [==============================] - 75s 12ms/step - loss: 0.0246 - rmspe: 0.0786 - val_loss: 0.0415 - val_rmspe: 0.1182\n",
      "Epoch 18/20\n",
      "6043/6043 [==============================] - 73s 12ms/step - loss: 0.0244 - rmspe: 0.0782 - val_loss: 0.0413 - val_rmspe: 0.1186\n",
      "Epoch 19/20\n",
      "6043/6043 [==============================] - 70s 12ms/step - loss: 0.0243 - rmspe: 0.0777 - val_loss: 0.0424 - val_rmspe: 0.1166\n",
      "Epoch 20/20\n",
      "6043/6043 [==============================] - 85s 14ms/step - loss: 0.0242 - rmspe: 0.0773 - val_loss: 0.0421 - val_rmspe: 0.1182\n"
     ]
    }
   ],
   "source": [
    "model_name = 'rossman-DateInfo-NoDay'\n",
    "tensorboard.log_dir = f\"logs/fit/model-{model_name}-{dt.datetime.now().strftime('%Y%m%dT%H%M')}\"\n",
    "\n",
    "EPOCHS = 20\n",
    "\n",
    "history = model.fit(\n",
    "    X_train, \n",
    "    y_train, \n",
    "    epochs=EPOCHS, \n",
    "    batch_size=128,\n",
    "    validation_data=(X_val, y_val), \n",
    "    callbacks=[\n",
    "        # mcp,\n",
    "        early_stopping,\n",
    "        tensorboard\n",
    "    ]\n",
    ")"
   ]
  },
  {
   "cell_type": "code",
   "execution_count": 32,
   "metadata": {},
   "outputs": [
    {
     "name": "stdout",
     "output_type": "stream",
     "text": [
      "944/944 [==============================] - 3s 3ms/step\n"
     ]
    }
   ],
   "source": [
    "y_pred = model.predict(X_val)\n",
    "y_true = y_val"
   ]
  },
  {
   "cell_type": "code",
   "execution_count": 33,
   "metadata": {},
   "outputs": [
    {
     "name": "stdout",
     "output_type": "stream",
     "text": [
      "944/944 [==============================] - 3s 3ms/step - loss: 0.0421 - rmspe: 0.1154\n"
     ]
    },
    {
     "data": {
      "text/plain": [
       "[0.042117372155189514, 0.11537401378154755]"
      ]
     },
     "execution_count": 33,
     "metadata": {},
     "output_type": "execute_result"
    }
   ],
   "source": [
    "# print(f\"rmspe: {round(float(rmspe(y_true, y_pred.T)), 3)}; ref value: 0.129\")\n",
    "model.evaluate(X_val, y_val)"
   ]
  },
  {
   "cell_type": "code",
   "execution_count": 34,
   "metadata": {},
   "outputs": [
    {
     "name": "stdout",
     "output_type": "stream",
     "text": [
      "944/944 [==============================] - 3s 3ms/step\n",
      "1284/1284 [==============================] - 4s 3ms/step\n"
     ]
    }
   ],
   "source": [
    "if log_output:\n",
    "    y_pred = np.exp(\n",
    "        model.predict(X_val, verbose=1) * max_log_y\n",
    "    )[:,0]\n",
    "    y_pred_test = np.exp(\n",
    "        model.predict(X_test, verbose=1) * max_log_y\n",
    "    )[:,0]\n",
    "else:\n",
    "    y_pred = model.predict(X_val, verbose=1)[:,0] * y_max\n",
    "    y_pred_test = model.predict(X_test, verbose=1)[:,0] * y_max\n",
    "\n",
    "y_pred_test[df_test['Open'] == 0] = 0"
   ]
  },
  {
   "cell_type": "code",
   "execution_count": 35,
   "metadata": {},
   "outputs": [
    {
     "data": {
      "text/plain": [
       "0.1247471297854046"
      ]
     },
     "execution_count": 35,
     "metadata": {},
     "output_type": "execute_result"
    }
   ],
   "source": [
    "np.sqrt((((df_val['Sales'].values - y_pred)/df_val['Sales'].values)**2).sum()/len(y_pred))\n",
    "\n",
    "# 0.15541181993250597"
   ]
  },
  {
   "cell_type": "code",
   "execution_count": 36,
   "metadata": {},
   "outputs": [
    {
     "data": {
      "text/html": [
       "<div>\n",
       "<style scoped>\n",
       "    .dataframe tbody tr th:only-of-type {\n",
       "        vertical-align: middle;\n",
       "    }\n",
       "\n",
       "    .dataframe tbody tr th {\n",
       "        vertical-align: top;\n",
       "    }\n",
       "\n",
       "    .dataframe thead th {\n",
       "        text-align: right;\n",
       "    }\n",
       "</style>\n",
       "<table border=\"1\" class=\"dataframe\">\n",
       "  <thead>\n",
       "    <tr style=\"text-align: right;\">\n",
       "      <th></th>\n",
       "      <th>Id</th>\n",
       "      <th>Sales</th>\n",
       "    </tr>\n",
       "  </thead>\n",
       "  <tbody>\n",
       "    <tr>\n",
       "      <th>0</th>\n",
       "      <td>1</td>\n",
       "      <td>3998.825221</td>\n",
       "    </tr>\n",
       "    <tr>\n",
       "      <th>1</th>\n",
       "      <td>2</td>\n",
       "      <td>6921.223005</td>\n",
       "    </tr>\n",
       "    <tr>\n",
       "      <th>2</th>\n",
       "      <td>3</td>\n",
       "      <td>9056.508061</td>\n",
       "    </tr>\n",
       "    <tr>\n",
       "      <th>3</th>\n",
       "      <td>4</td>\n",
       "      <td>7005.629444</td>\n",
       "    </tr>\n",
       "    <tr>\n",
       "      <th>4</th>\n",
       "      <td>5</td>\n",
       "      <td>6937.571876</td>\n",
       "    </tr>\n",
       "  </tbody>\n",
       "</table>\n",
       "</div>"
      ],
      "text/plain": [
       "   Id        Sales\n",
       "0   1  3998.825221\n",
       "1   2  6921.223005\n",
       "2   3  9056.508061\n",
       "3   4  7005.629444\n",
       "4   5  6937.571876"
      ]
     },
     "execution_count": 36,
     "metadata": {},
     "output_type": "execute_result"
    }
   ],
   "source": [
    "sample_csv = pd.read_csv('dataset/rossmann/sample_submission.csv')\n",
    "sample_csv['Sales'] = y_pred_test\n",
    "sample_csv.head()"
   ]
  },
  {
   "cell_type": "code",
   "execution_count": 37,
   "metadata": {},
   "outputs": [],
   "source": [
    "sample_csv.to_csv(\n",
    "    f'submision_baseline.csv', \n",
    "    index=False\n",
    ")\n"
   ]
  },
  {
   "cell_type": "code",
   "execution_count": null,
   "metadata": {},
   "outputs": [],
   "source": []
  }
 ],
 "metadata": {
  "kernelspec": {
   "display_name": "kaggle-rossmann",
   "language": "python",
   "name": "kaggle-rossmann"
  },
  "language_info": {
   "codemirror_mode": {
    "name": "ipython",
    "version": 3
   },
   "file_extension": ".py",
   "mimetype": "text/x-python",
   "name": "python",
   "nbconvert_exporter": "python",
   "pygments_lexer": "ipython3",
   "version": "3.9.16"
  }
 },
 "nbformat": 4,
 "nbformat_minor": 4
}
