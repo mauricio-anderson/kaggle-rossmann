{
 "cells": [
  {
   "cell_type": "code",
   "execution_count": 1,
   "metadata": {},
   "outputs": [],
   "source": [
    "%load_ext autoreload\n",
    "%autoreload 2"
   ]
  },
  {
   "cell_type": "code",
   "execution_count": 2,
   "metadata": {},
   "outputs": [],
   "source": [
    "import pandas as pd\n",
    "import numpy as np\n",
    "import datetime as dt\n",
    "from pandas_summary import DataFrameSummary"
   ]
  },
  {
   "cell_type": "code",
   "execution_count": 3,
   "metadata": {},
   "outputs": [],
   "source": [
    "# Evitar warnings molestos\n",
    "import absl.logging\n",
    "absl.logging.set_verbosity(absl.logging.ERROR)\n",
    "\n",
    "import warnings\n",
    "warnings.filterwarnings('ignore')"
   ]
  },
  {
   "cell_type": "code",
   "execution_count": 4,
   "metadata": {},
   "outputs": [],
   "source": [
    "df = pd.read_feather('train_normalized_data.fth')\n",
    "df_test = pd.read_feather('test_normalized_data.fth')"
   ]
  },
  {
   "cell_type": "code",
   "execution_count": 5,
   "metadata": {},
   "outputs": [
    {
     "data": {
      "text/html": [
       "<div>\n",
       "<style scoped>\n",
       "    .dataframe tbody tr th:only-of-type {\n",
       "        vertical-align: middle;\n",
       "    }\n",
       "\n",
       "    .dataframe tbody tr th {\n",
       "        vertical-align: top;\n",
       "    }\n",
       "\n",
       "    .dataframe thead th {\n",
       "        text-align: right;\n",
       "    }\n",
       "</style>\n",
       "<table border=\"1\" class=\"dataframe\">\n",
       "  <thead>\n",
       "    <tr style=\"text-align: right;\">\n",
       "      <th></th>\n",
       "      <th>index</th>\n",
       "      <th>Store</th>\n",
       "      <th>DayOfWeek</th>\n",
       "      <th>Date</th>\n",
       "      <th>Sales</th>\n",
       "      <th>Customers</th>\n",
       "      <th>Open</th>\n",
       "      <th>Promo</th>\n",
       "      <th>StateHoliday</th>\n",
       "      <th>SchoolHoliday</th>\n",
       "      <th>...</th>\n",
       "      <th>AfterStateHoliday_bool</th>\n",
       "      <th>BeforeStateHoliday_bool</th>\n",
       "      <th>AfterPromo</th>\n",
       "      <th>BeforePromo</th>\n",
       "      <th>SchoolHoliday_bw</th>\n",
       "      <th>StateHoliday_bool_bw</th>\n",
       "      <th>Promo_bw</th>\n",
       "      <th>SchoolHoliday_fw</th>\n",
       "      <th>StateHoliday_bool_fw</th>\n",
       "      <th>Promo_fw</th>\n",
       "    </tr>\n",
       "  </thead>\n",
       "  <tbody>\n",
       "    <tr>\n",
       "      <th>0</th>\n",
       "      <td>0</td>\n",
       "      <td>0</td>\n",
       "      <td>4</td>\n",
       "      <td>2015-07-31</td>\n",
       "      <td>5263</td>\n",
       "      <td>555</td>\n",
       "      <td>1</td>\n",
       "      <td>1.273237</td>\n",
       "      <td>0</td>\n",
       "      <td>2.144211</td>\n",
       "      <td>...</td>\n",
       "      <td>0.644376</td>\n",
       "      <td>1.072424</td>\n",
       "      <td>0</td>\n",
       "      <td>0</td>\n",
       "      <td>5</td>\n",
       "      <td>0</td>\n",
       "      <td>5</td>\n",
       "      <td>1</td>\n",
       "      <td>0</td>\n",
       "      <td>1</td>\n",
       "    </tr>\n",
       "    <tr>\n",
       "      <th>1</th>\n",
       "      <td>1</td>\n",
       "      <td>1</td>\n",
       "      <td>4</td>\n",
       "      <td>2015-07-31</td>\n",
       "      <td>6064</td>\n",
       "      <td>625</td>\n",
       "      <td>1</td>\n",
       "      <td>1.273237</td>\n",
       "      <td>0</td>\n",
       "      <td>2.144211</td>\n",
       "      <td>...</td>\n",
       "      <td>0.965073</td>\n",
       "      <td>1.072424</td>\n",
       "      <td>0</td>\n",
       "      <td>0</td>\n",
       "      <td>5</td>\n",
       "      <td>0</td>\n",
       "      <td>5</td>\n",
       "      <td>1</td>\n",
       "      <td>0</td>\n",
       "      <td>1</td>\n",
       "    </tr>\n",
       "    <tr>\n",
       "      <th>2</th>\n",
       "      <td>2</td>\n",
       "      <td>2</td>\n",
       "      <td>4</td>\n",
       "      <td>2015-07-31</td>\n",
       "      <td>8314</td>\n",
       "      <td>821</td>\n",
       "      <td>1</td>\n",
       "      <td>1.273237</td>\n",
       "      <td>0</td>\n",
       "      <td>2.144211</td>\n",
       "      <td>...</td>\n",
       "      <td>0.644376</td>\n",
       "      <td>1.072424</td>\n",
       "      <td>0</td>\n",
       "      <td>0</td>\n",
       "      <td>5</td>\n",
       "      <td>0</td>\n",
       "      <td>5</td>\n",
       "      <td>1</td>\n",
       "      <td>0</td>\n",
       "      <td>1</td>\n",
       "    </tr>\n",
       "    <tr>\n",
       "      <th>3</th>\n",
       "      <td>3</td>\n",
       "      <td>3</td>\n",
       "      <td>4</td>\n",
       "      <td>2015-07-31</td>\n",
       "      <td>13995</td>\n",
       "      <td>1498</td>\n",
       "      <td>1</td>\n",
       "      <td>1.273237</td>\n",
       "      <td>0</td>\n",
       "      <td>2.144211</td>\n",
       "      <td>...</td>\n",
       "      <td>0.965073</td>\n",
       "      <td>1.072424</td>\n",
       "      <td>0</td>\n",
       "      <td>0</td>\n",
       "      <td>5</td>\n",
       "      <td>0</td>\n",
       "      <td>5</td>\n",
       "      <td>1</td>\n",
       "      <td>0</td>\n",
       "      <td>1</td>\n",
       "    </tr>\n",
       "    <tr>\n",
       "      <th>4</th>\n",
       "      <td>4</td>\n",
       "      <td>4</td>\n",
       "      <td>4</td>\n",
       "      <td>2015-07-31</td>\n",
       "      <td>4822</td>\n",
       "      <td>559</td>\n",
       "      <td>1</td>\n",
       "      <td>1.273237</td>\n",
       "      <td>0</td>\n",
       "      <td>2.144211</td>\n",
       "      <td>...</td>\n",
       "      <td>0.644376</td>\n",
       "      <td>1.072424</td>\n",
       "      <td>0</td>\n",
       "      <td>0</td>\n",
       "      <td>5</td>\n",
       "      <td>0</td>\n",
       "      <td>5</td>\n",
       "      <td>1</td>\n",
       "      <td>0</td>\n",
       "      <td>1</td>\n",
       "    </tr>\n",
       "  </tbody>\n",
       "</table>\n",
       "<p>5 rows × 82 columns</p>\n",
       "</div>"
      ],
      "text/plain": [
       "   index  Store  DayOfWeek       Date  Sales  Customers  Open     Promo  \\\n",
       "0      0      0          4 2015-07-31   5263        555     1  1.273237   \n",
       "1      1      1          4 2015-07-31   6064        625     1  1.273237   \n",
       "2      2      2          4 2015-07-31   8314        821     1  1.273237   \n",
       "3      3      3          4 2015-07-31  13995       1498     1  1.273237   \n",
       "4      4      4          4 2015-07-31   4822        559     1  1.273237   \n",
       "\n",
       "   StateHoliday  SchoolHoliday  ...  AfterStateHoliday_bool  \\\n",
       "0             0       2.144211  ...                0.644376   \n",
       "1             0       2.144211  ...                0.965073   \n",
       "2             0       2.144211  ...                0.644376   \n",
       "3             0       2.144211  ...                0.965073   \n",
       "4             0       2.144211  ...                0.644376   \n",
       "\n",
       "   BeforeStateHoliday_bool  AfterPromo  BeforePromo  SchoolHoliday_bw  \\\n",
       "0                 1.072424           0            0                 5   \n",
       "1                 1.072424           0            0                 5   \n",
       "2                 1.072424           0            0                 5   \n",
       "3                 1.072424           0            0                 5   \n",
       "4                 1.072424           0            0                 5   \n",
       "\n",
       "   StateHoliday_bool_bw  Promo_bw  SchoolHoliday_fw  StateHoliday_bool_fw  \\\n",
       "0                     0         5                 1                     0   \n",
       "1                     0         5                 1                     0   \n",
       "2                     0         5                 1                     0   \n",
       "3                     0         5                 1                     0   \n",
       "4                     0         5                 1                     0   \n",
       "\n",
       "   Promo_fw  \n",
       "0         1  \n",
       "1         1  \n",
       "2         1  \n",
       "3         1  \n",
       "4         1  \n",
       "\n",
       "[5 rows x 82 columns]"
      ]
     },
     "execution_count": 5,
     "metadata": {},
     "output_type": "execute_result"
    }
   ],
   "source": [
    "df.head()"
   ]
  },
  {
   "cell_type": "code",
   "execution_count": null,
   "metadata": {},
   "outputs": [],
   "source": []
  },
  {
   "cell_type": "markdown",
   "metadata": {},
   "source": [
    "## Train / Test / Valid split"
   ]
  },
  {
   "cell_type": "code",
   "execution_count": 6,
   "metadata": {},
   "outputs": [
    {
     "data": {
      "text/plain": [
       "(Timestamp('2013-01-01 00:00:00'),\n",
       " Timestamp('2015-07-31 00:00:00'),\n",
       " Timestamp('2015-08-01 00:00:00'),\n",
       " Timestamp('2015-09-17 00:00:00'))"
      ]
     },
     "execution_count": 6,
     "metadata": {},
     "output_type": "execute_result"
    }
   ],
   "source": [
    "df[\"Date\"].min(), df[\"Date\"].max(), df_test[\"Date\"].min(), df_test[\"Date\"].max()"
   ]
  },
  {
   "cell_type": "code",
   "execution_count": 7,
   "metadata": {},
   "outputs": [
    {
     "data": {
      "text/plain": [
       "(0.96, 0.04, 844338, 30188)"
      ]
     },
     "execution_count": 7,
     "metadata": {},
     "output_type": "execute_result"
    }
   ],
   "source": [
    "df_train = df[df.Date < dt.datetime(2015, 7, 1)]  \n",
    "df_val = df[df.Date >= dt.datetime(2015, 7, 1)]\n",
    "round(len(df_train)/len(df), 2), round(len(df_val)/len(df), 2), len(df), len(df_val)"
   ]
  },
  {
   "cell_type": "code",
   "execution_count": 8,
   "metadata": {},
   "outputs": [],
   "source": [
    "# df_train[[\"Store\", \"Date\", \"Sales\"]]"
   ]
  },
  {
   "cell_type": "code",
   "execution_count": null,
   "metadata": {},
   "outputs": [],
   "source": []
  },
  {
   "cell_type": "markdown",
   "metadata": {},
   "source": [
    "## Pre Processing"
   ]
  },
  {
   "cell_type": "code",
   "execution_count": 9,
   "metadata": {},
   "outputs": [],
   "source": [
    "# max_sales = df_train['Sales'].max()\n",
    "# \n",
    "# df_train.loc[:, 'Sales_norm'] = df_train['Sales'].values/max_sales\n",
    "# df_val.loc[:, 'Sales_norm'] = df_val['Sales'].values/max_sales"
   ]
  },
  {
   "cell_type": "code",
   "execution_count": 10,
   "metadata": {},
   "outputs": [],
   "source": [
    "# def get_metric(sales, sales_):\n",
    "#     return np.sqrt((((sales - sales_)/sales)**2).sum()/len(sales))\n",
    "# \n",
    "# sales_norm_mean = df_train['Sales_norm'].mean()\n",
    "# \n",
    "# print(f\"\"\"\n",
    "#     Train: {get_metric(df_train['Sales_norm'], sales_norm_mean)}; \n",
    "#     Val: {get_metric(df_val['Sales_norm'], sales_norm_mean)}\n",
    "#     \"\"\")\n",
    "# "
   ]
  },
  {
   "cell_type": "code",
   "execution_count": null,
   "metadata": {},
   "outputs": [],
   "source": []
  },
  {
   "cell_type": "markdown",
   "metadata": {},
   "source": [
    "## Feature encoding"
   ]
  },
  {
   "cell_type": "code",
   "execution_count": 11,
   "metadata": {},
   "outputs": [
    {
     "name": "stderr",
     "output_type": "stream",
     "text": [
      "2023-02-18 21:13:53.595699: I tensorflow/core/platform/cpu_feature_guard.cc:193] This TensorFlow binary is optimized with oneAPI Deep Neural Network Library (oneDNN) to use the following CPU instructions in performance-critical operations:  AVX2 AVX512F AVX512_VNNI FMA\n",
      "To enable them in other operations, rebuild TensorFlow with the appropriate compiler flags.\n"
     ]
    }
   ],
   "source": [
    "from tensorflow.keras.layers import Embedding, Input, Flatten, Concatenate"
   ]
  },
  {
   "cell_type": "code",
   "execution_count": 12,
   "metadata": {},
   "outputs": [],
   "source": [
    "cat_vars = [\n",
    "    'Store', 'DayOfWeek', 'Year', 'Month', 'Day', 'StateHoliday', 'CompetitionMonthsOpen', \n",
    "    'Promo2Weeks', 'StoreType', 'Assortment', 'PromoInterval', 'CompetitionOpenSinceYear', \n",
    "    'Promo2SinceYear', 'State', 'Week', 'Events', 'Promo_fw', 'Promo_bw', \n",
    "    'StateHoliday_bool_fw', 'StateHoliday_bool_bw', 'SchoolHoliday_fw', 'SchoolHoliday_bw'\n",
    "]\n",
    "\n",
    "cat_vars = ['Store', 'DayOfWeek']"
   ]
  },
  {
   "cell_type": "code",
   "execution_count": 13,
   "metadata": {},
   "outputs": [],
   "source": [
    "uniques = DataFrameSummary(df[cat_vars]).summary().loc[['uniques']]"
   ]
  },
  {
   "cell_type": "code",
   "execution_count": 14,
   "metadata": {},
   "outputs": [],
   "source": [
    "# contin_vars = [\n",
    "#     'CompetitionDistance', 'Max_TemperatureC', 'Mean_TemperatureC', 'Min_TemperatureC', \n",
    "#     'Precipitationmm', 'Max_Humidity', 'Mean_Humidity', 'Min_Humidity', 'Max_Wind_SpeedKm_h', \n",
    "#     'Mean_Wind_SpeedKm_h', 'CloudCover', 'trend', 'trend_DE', 'AfterStateHoliday_bool', \n",
    "#     'BeforeStateHoliday_bool', 'Promo', 'SchoolHoliday', 'StateHoliday_bool'\n",
    "# ]\n",
    "# \n",
    "# contin_vars = ['BeforeStateHoliday_bool', 'Max_TemperatureC']"
   ]
  },
  {
   "cell_type": "code",
   "execution_count": 15,
   "metadata": {},
   "outputs": [],
   "source": [
    "# Asignación de dimensión de embeddings\n",
    "cat_var_dict = {\n",
    "   \"Store\": 8,  # 50\n",
    "   \"DayOfWeek\": 2,\n",
    "}"
   ]
  },
  {
   "cell_type": "code",
   "execution_count": 16,
   "metadata": {},
   "outputs": [],
   "source": [
    "\n",
    "def get_cat_vars_model(cat_vars, uniques, cat_var_dict):\n",
    "\n",
    "    cat_vars_embed_outs = []\n",
    "    cat_var_inputs = []\n",
    "    \n",
    "    for cat_var in cat_vars:\n",
    "        \n",
    "        cat_var_in = Input(shape=(1,), name=f\"{cat_var}_input\")\n",
    "        \n",
    "        cat_var_inputs.append(cat_var_in)\n",
    "        \n",
    "        embed_out = Embedding(\n",
    "            uniques[cat_var][0],  # Dimencion de entrada\n",
    "            cat_var_dict[cat_var],  # Dimencion de salida\n",
    "            name=f'{cat_var}_Embed'\n",
    "        )(cat_var_in)\n",
    "        \n",
    "        flatten_out = Flatten(\n",
    "            name=f\"{cat_var}_flat\"\n",
    "        )(embed_out)\n",
    "        \n",
    "        cat_vars_embed_outs.append(flatten_out)\n",
    "\n",
    "    return cat_var_inputs, cat_vars_embed_outs\n",
    "\n",
    "# def get_cont_vars_input(contin_vars, dense_layer=False):\n",
    "#     cont_vars_inputs = []\n",
    "#     cont_vars_outputs = []\n",
    "#     for cont_var in contin_vars:\n",
    "#         cont_var_in = Input(shape=(1,), name=f\"{cont_var}_input\")\n",
    "#         cont_vars_inputs.append(cont_var_in)\n",
    "#         if dense_layer:\n",
    "#             cont_var_out = Dense(1, name=f\"{cont_var}_input\", activation = 'linear')(cont_var_in)\n",
    "#             cont_vars_outputs.append(cont_var_out)\n",
    "#         else:\n",
    "#             cont_vars_outputs.append(cont_var_in)\n",
    "#     return cont_vars_inputs, cont_vars_outputsb"
   ]
  },
  {
   "cell_type": "code",
   "execution_count": 17,
   "metadata": {},
   "outputs": [
    {
     "name": "stderr",
     "output_type": "stream",
     "text": [
      "2023-02-18 21:13:59.496425: I tensorflow/core/platform/cpu_feature_guard.cc:193] This TensorFlow binary is optimized with oneAPI Deep Neural Network Library (oneDNN) to use the following CPU instructions in performance-critical operations:  AVX2 AVX512F AVX512_VNNI FMA\n",
      "To enable them in other operations, rebuild TensorFlow with the appropriate compiler flags.\n"
     ]
    }
   ],
   "source": [
    "cat_var_inputs, cat_vars_embed_outs = get_cat_vars_model(cat_vars, uniques, cat_var_dict)\n",
    "# cont_vars_inputs,  cont_vars_outs= get_cont_vars_input(contin_vars)"
   ]
  },
  {
   "cell_type": "code",
   "execution_count": 18,
   "metadata": {},
   "outputs": [],
   "source": [
    "model_encoded_input = Concatenate(name='All_Concatenate')(cat_vars_embed_outs)"
   ]
  },
  {
   "cell_type": "code",
   "execution_count": null,
   "metadata": {},
   "outputs": [],
   "source": []
  },
  {
   "cell_type": "markdown",
   "metadata": {},
   "source": [
    "## Dataset"
   ]
  },
  {
   "cell_type": "code",
   "execution_count": 19,
   "metadata": {},
   "outputs": [],
   "source": [
    "# Input\n",
    "all_vars = cat_vars \n",
    "\n",
    "X_train = np.hsplit(df_train[all_vars].values, len(all_vars))\n",
    "X_val = np.hsplit(df_val[all_vars].values, len(all_vars))\n",
    "X_test = np.hsplit(df_test[all_vars].values, len(all_vars))\n",
    "\n",
    "# Target\n",
    "y_out_columns = \"Sales\"\n",
    "y_max = df_train[y_out_columns].max()\n",
    "y_train = df_train[y_out_columns].values/y_max\n",
    "y_val = df_val[y_out_columns].values/y_max\n",
    "\n",
    "# y_train = np.hsplit(y_train, y_train.shape[0])\n",
    "# y_val = np.hsplit(y_val, y_val.shape[0])"
   ]
  },
  {
   "cell_type": "code",
   "execution_count": null,
   "metadata": {},
   "outputs": [],
   "source": []
  },
  {
   "cell_type": "markdown",
   "metadata": {},
   "source": [
    "## Neural Network"
   ]
  },
  {
   "cell_type": "code",
   "execution_count": 22,
   "metadata": {},
   "outputs": [],
   "source": [
    "from tensorflow.keras.models import Model\n",
    "from tensorflow.keras.callbacks import ModelCheckpoint, EarlyStopping, TensorBoard\n",
    "from tensorflow.keras.optimizers import Adam\n",
    "from tensorflow.keras.layers import (\n",
    "    Embedding, Input, Flatten, Concatenate, Dense, \n",
    "    BatchNormalization, Activation, LeakyReLU, Dropout\n",
    ")\n",
    "from tensorflow.keras.regularizers import l2\n",
    "from tensorflow.keras import backend as K"
   ]
  },
  {
   "cell_type": "code",
   "execution_count": 23,
   "metadata": {},
   "outputs": [],
   "source": [
    "# Metrics\n",
    "def rmspe(y_true, y_pred):\n",
    "    return K.sqrt(K.mean(K.square((y_true - y_pred)/y_true)))"
   ]
  },
  {
   "cell_type": "code",
   "execution_count": 24,
   "metadata": {},
   "outputs": [],
   "source": [
    "# EarlyStopping\n",
    "early_stopping = EarlyStopping(\n",
    "    monitor='val_loss',\n",
    "    patience=5,                 # number of epochs with no improvement (0 means the training \n",
    "                                # is terminated as soon as the performance measure gets worse \n",
    "                                # from one epoch to the next)\n",
    "    restore_best_weights=True\n",
    ")"
   ]
  },
  {
   "cell_type": "code",
   "execution_count": 25,
   "metadata": {},
   "outputs": [],
   "source": [
    "# Tensorboard\n",
    "tensorboard = TensorBoard(\n",
    "    log_dir=\"logs/fit/model-default\",\n",
    "    histogram_freq=1,\n",
    "    write_graph=False,\n",
    "    write_images=False\n",
    ")"
   ]
  },
  {
   "cell_type": "code",
   "execution_count": 26,
   "metadata": {},
   "outputs": [],
   "source": [
    "# ModelCheckpoint\n",
    "mcp = ModelCheckpoint(\n",
    "    'best_val_rmspe.hdf5', \n",
    "    monitor='val_rmspe', \n",
    "    mode='min', \n",
    "    verbose=1, \n",
    "    save_best_only=True\n",
    ")"
   ]
  },
  {
   "cell_type": "code",
   "execution_count": 27,
   "metadata": {},
   "outputs": [],
   "source": [
    "# Model\n",
    "output_activation = 'linear'\n",
    "\n",
    "l2_lambda = 1e-3\n",
    "\n",
    "layers_config = [\n",
    "    {\"hidden_units\": 100, \"l2_lambda\": l2_lambda},\n",
    "    {\"hidden_units\": 50, \"l2_lambda\": l2_lambda},\n",
    "]\n",
    "\n",
    "x = None\n",
    "\n",
    "for n_layer, layer in enumerate(layers_config):\n",
    "    \n",
    "    previous_layer = model_encoded_input if n_layer==0 else x\n",
    "\n",
    "    x = Dense(\n",
    "        layer[\"hidden_units\"], \n",
    "        kernel_initializer=\"uniform\", \n",
    "        kernel_regularizer=l2(layer[\"l2_lambda\"])\n",
    "    )(previous_layer)\n",
    "\n",
    "    x = BatchNormalization()(x)\n",
    "\n",
    "    x = Activation('relu')(x)\n",
    "\n",
    "output_sales = Dense(1, name='Sales', activation=output_activation)(x)"
   ]
  },
  {
   "cell_type": "code",
   "execution_count": 28,
   "metadata": {},
   "outputs": [],
   "source": [
    "model = Model(cat_var_inputs, [output_sales])"
   ]
  },
  {
   "cell_type": "code",
   "execution_count": 29,
   "metadata": {
    "collapsed": true,
    "jupyter": {
     "outputs_hidden": true
    },
    "tags": []
   },
   "outputs": [
    {
     "name": "stdout",
     "output_type": "stream",
     "text": [
      "Model: \"model\"\n",
      "__________________________________________________________________________________________________\n",
      " Layer (type)                   Output Shape         Param #     Connected to                     \n",
      "==================================================================================================\n",
      " Store_input (InputLayer)       [(None, 1)]          0           []                               \n",
      "                                                                                                  \n",
      " DayOfWeek_input (InputLayer)   [(None, 1)]          0           []                               \n",
      "                                                                                                  \n",
      " Store_Embed (Embedding)        (None, 1, 8)         8920        ['Store_input[0][0]']            \n",
      "                                                                                                  \n",
      " DayOfWeek_Embed (Embedding)    (None, 1, 2)         14          ['DayOfWeek_input[0][0]']        \n",
      "                                                                                                  \n",
      " Store_flat (Flatten)           (None, 8)            0           ['Store_Embed[0][0]']            \n",
      "                                                                                                  \n",
      " DayOfWeek_flat (Flatten)       (None, 2)            0           ['DayOfWeek_Embed[0][0]']        \n",
      "                                                                                                  \n",
      " All_Concatenate (Concatenate)  (None, 10)           0           ['Store_flat[0][0]',             \n",
      "                                                                  'DayOfWeek_flat[0][0]']         \n",
      "                                                                                                  \n",
      " dense (Dense)                  (None, 100)          1100        ['All_Concatenate[0][0]']        \n",
      "                                                                                                  \n",
      " batch_normalization (BatchNorm  (None, 100)         400         ['dense[0][0]']                  \n",
      " alization)                                                                                       \n",
      "                                                                                                  \n",
      " activation (Activation)        (None, 100)          0           ['batch_normalization[0][0]']    \n",
      "                                                                                                  \n",
      " dense_1 (Dense)                (None, 50)           5050        ['activation[0][0]']             \n",
      "                                                                                                  \n",
      " batch_normalization_1 (BatchNo  (None, 50)          200         ['dense_1[0][0]']                \n",
      " rmalization)                                                                                     \n",
      "                                                                                                  \n",
      " activation_1 (Activation)      (None, 50)           0           ['batch_normalization_1[0][0]']  \n",
      "                                                                                                  \n",
      " Sales (Dense)                  (None, 1)            51          ['activation_1[0][0]']           \n",
      "                                                                                                  \n",
      "==================================================================================================\n",
      "Total params: 15,735\n",
      "Trainable params: 15,435\n",
      "Non-trainable params: 300\n",
      "__________________________________________________________________________________________________\n"
     ]
    }
   ],
   "source": [
    "model.summary()"
   ]
  },
  {
   "cell_type": "code",
   "execution_count": 30,
   "metadata": {},
   "outputs": [],
   "source": [
    "model.compile(\n",
    "    optimizer=Adam(\n",
    "        learning_rate=0.001\n",
    "    ),  # RMSprop, Adam, Nadam\n",
    "    loss=\"mse\",\n",
    "    metrics=[rmspe, 'mse']\n",
    ")"
   ]
  },
  {
   "cell_type": "code",
   "execution_count": null,
   "metadata": {},
   "outputs": [],
   "source": [
    "## Tensorboard\n",
    "from tensorboard import notebook\n",
    "notebook.list() \n",
    "\n",
    "# %tensorboard --logdir logs/fit/\n",
    "# !tensorboard --logdir logs/fit/ --port 6007 -> Run in your cli"
   ]
  },
  {
   "cell_type": "code",
   "execution_count": 31,
   "metadata": {
    "collapsed": true,
    "jupyter": {
     "outputs_hidden": true
    },
    "tags": []
   },
   "outputs": [
    {
     "name": "stdout",
     "output_type": "stream",
     "text": [
      "Epoch 1/20\n",
      "25443/25443 [==============================] - 54s 2ms/step - loss: 0.0025 - rmspe: 0.3188 - mse: 0.0023 - val_loss: 0.0015 - val_rmspe: 0.2347 - val_mse: 0.0014\n",
      "Epoch 2/20\n",
      "25443/25443 [==============================] - 48s 2ms/step - loss: 0.0020 - rmspe: 0.2851 - mse: 0.0020 - val_loss: 0.0016 - val_rmspe: 0.2342 - val_mse: 0.0015\n",
      "Epoch 3/20\n",
      "25443/25443 [==============================] - 53s 2ms/step - loss: 0.0020 - rmspe: 0.2833 - mse: 0.0019 - val_loss: 0.0014 - val_rmspe: 0.2259 - val_mse: 0.0014\n",
      "Epoch 4/20\n",
      "25443/25443 [==============================] - 57s 2ms/step - loss: 0.0020 - rmspe: 0.2820 - mse: 0.0019 - val_loss: 0.0014 - val_rmspe: 0.2307 - val_mse: 0.0014\n",
      "Epoch 5/20\n",
      "25443/25443 [==============================] - 57s 2ms/step - loss: 0.0019 - rmspe: 0.2816 - mse: 0.0019 - val_loss: 0.0015 - val_rmspe: 0.2171 - val_mse: 0.0015\n",
      "Epoch 6/20\n",
      "25443/25443 [==============================] - 57s 2ms/step - loss: 0.0019 - rmspe: 0.2810 - mse: 0.0019 - val_loss: 0.0014 - val_rmspe: 0.2094 - val_mse: 0.0014\n",
      "Epoch 7/20\n",
      "25443/25443 [==============================] - 60s 2ms/step - loss: 0.0019 - rmspe: 0.2809 - mse: 0.0019 - val_loss: 0.0014 - val_rmspe: 0.2266 - val_mse: 0.0014\n",
      "Epoch 8/20\n",
      "25443/25443 [==============================] - 55s 2ms/step - loss: 0.0019 - rmspe: 0.2809 - mse: 0.0019 - val_loss: 0.0015 - val_rmspe: 0.2099 - val_mse: 0.0015\n",
      "Epoch 9/20\n",
      "25443/25443 [==============================] - 52s 2ms/step - loss: 0.0019 - rmspe: 0.2812 - mse: 0.0019 - val_loss: 0.0015 - val_rmspe: 0.2515 - val_mse: 0.0015\n",
      "Epoch 10/20\n",
      "25443/25443 [==============================] - 51s 2ms/step - loss: 0.0019 - rmspe: 0.2810 - mse: 0.0019 - val_loss: 0.0015 - val_rmspe: 0.2178 - val_mse: 0.0014\n",
      "Epoch 11/20\n",
      "25443/25443 [==============================] - 52s 2ms/step - loss: 0.0019 - rmspe: 0.2810 - mse: 0.0019 - val_loss: 0.0014 - val_rmspe: 0.2214 - val_mse: 0.0014\n",
      "Epoch 12/20\n",
      "25443/25443 [==============================] - 51s 2ms/step - loss: 0.0019 - rmspe: 0.2808 - mse: 0.0019 - val_loss: 0.0020 - val_rmspe: 0.2526 - val_mse: 0.0019\n",
      "Epoch 13/20\n",
      "25443/25443 [==============================] - 51s 2ms/step - loss: 0.0019 - rmspe: 0.2809 - mse: 0.0019 - val_loss: 0.0014 - val_rmspe: 0.2159 - val_mse: 0.0014\n",
      "Epoch 14/20\n",
      "25443/25443 [==============================] - 52s 2ms/step - loss: 0.0019 - rmspe: 0.2804 - mse: 0.0019 - val_loss: 0.0015 - val_rmspe: 0.2088 - val_mse: 0.0015\n",
      "Epoch 15/20\n",
      "25443/25443 [==============================] - 53s 2ms/step - loss: 0.0019 - rmspe: 0.2805 - mse: 0.0019 - val_loss: 0.0015 - val_rmspe: 0.2297 - val_mse: 0.0015\n",
      "Epoch 16/20\n",
      "25443/25443 [==============================] - 51s 2ms/step - loss: 0.0019 - rmspe: 0.2804 - mse: 0.0019 - val_loss: 0.0018 - val_rmspe: 0.2502 - val_mse: 0.0017\n"
     ]
    }
   ],
   "source": [
    "# assert False\n",
    "\n",
    "model_name = 'rossman'\n",
    "tensorboard.log_dir = f\"logs/fit/model-{model_name}-{dt.datetime.now().strftime('%Y%m%dT%H%M')}\"\n",
    "\n",
    "EPOCHS = 20\n",
    "\n",
    "history = model.fit(\n",
    "    X_train, \n",
    "    y_train, \n",
    "    epochs=EPOCHS, \n",
    "    batch_size=32, \n",
    "    validation_data=(X_val, y_val), \n",
    "    callbacks=[\n",
    "        # mcp,\n",
    "        early_stopping,\n",
    "        tensorboard\n",
    "    ]\n",
    ")"
   ]
  },
  {
   "cell_type": "code",
   "execution_count": 35,
   "metadata": {},
   "outputs": [
    {
     "name": "stdout",
     "output_type": "stream",
     "text": [
      "944/944 [==============================] - 1s 944us/step\n"
     ]
    }
   ],
   "source": [
    "y_pred = model.predict(X_val)\n",
    "y_true = y_val"
   ]
  },
  {
   "cell_type": "code",
   "execution_count": 52,
   "metadata": {},
   "outputs": [
    {
     "name": "stdout",
     "output_type": "stream",
     "text": [
      "944/944 [==============================] - 2s 2ms/step - loss: 0.0014 - rmspe: 0.2094 - mse: 0.0014\n"
     ]
    },
    {
     "data": {
      "text/plain": [
       "[0.001397569663822651, 0.20941533148288727, 0.0013595435302704573]"
      ]
     },
     "execution_count": 52,
     "metadata": {},
     "output_type": "execute_result"
    }
   ],
   "source": [
    "# print(f\"rmspe: {round(float(rmspe(y_true, y_pred.T)), 3)}; ref value: 0.129\")\n",
    "model.evaluate(X_val, y_val)"
   ]
  },
  {
   "cell_type": "code",
   "execution_count": 53,
   "metadata": {},
   "outputs": [
    {
     "name": "stdout",
     "output_type": "stream",
     "text": [
      "944/944 [==============================] - 2s 2ms/step\n",
      "1284/1284 [==============================] - 1s 902us/step\n"
     ]
    }
   ],
   "source": [
    "y_pred = model.predict(X_val, verbose=1)[:,0] * y_max\n",
    "y_pred_test = model.predict(X_test, verbose=1)[:,0] * y_max\n",
    "y_pred_test[df_test['Open'] == 0] = 0"
   ]
  },
  {
   "cell_type": "code",
   "execution_count": 55,
   "metadata": {},
   "outputs": [
    {
     "data": {
      "text/plain": [
       "0.2190960850258629"
      ]
     },
     "execution_count": 55,
     "metadata": {},
     "output_type": "execute_result"
    }
   ],
   "source": [
    "np.sqrt((((df_val['Sales'].values - y_pred)/df_val['Sales'].values)**2).sum()/len(y_pred))"
   ]
  },
  {
   "cell_type": "code",
   "execution_count": 57,
   "metadata": {},
   "outputs": [
    {
     "data": {
      "text/plain": [
       "0.0"
      ]
     },
     "execution_count": 57,
     "metadata": {},
     "output_type": "execute_result"
    }
   ],
   "source": [
    "y_pred_test.min()"
   ]
  },
  {
   "cell_type": "code",
   "execution_count": null,
   "metadata": {},
   "outputs": [],
   "source": [
    "# sample_csv.to_csv(f'submision_baseline_1.csv', index=False)"
   ]
  },
  {
   "cell_type": "code",
   "execution_count": 60,
   "metadata": {},
   "outputs": [
    {
     "data": {
      "text/html": [
       "<div>\n",
       "<style scoped>\n",
       "    .dataframe tbody tr th:only-of-type {\n",
       "        vertical-align: middle;\n",
       "    }\n",
       "\n",
       "    .dataframe tbody tr th {\n",
       "        vertical-align: top;\n",
       "    }\n",
       "\n",
       "    .dataframe thead th {\n",
       "        text-align: right;\n",
       "    }\n",
       "</style>\n",
       "<table border=\"1\" class=\"dataframe\">\n",
       "  <thead>\n",
       "    <tr style=\"text-align: right;\">\n",
       "      <th></th>\n",
       "      <th>Id</th>\n",
       "      <th>Sales</th>\n",
       "    </tr>\n",
       "  </thead>\n",
       "  <tbody>\n",
       "    <tr>\n",
       "      <th>0</th>\n",
       "      <td>1</td>\n",
       "      <td>4443.552734</td>\n",
       "    </tr>\n",
       "    <tr>\n",
       "      <th>1</th>\n",
       "      <td>2</td>\n",
       "      <td>6995.912598</td>\n",
       "    </tr>\n",
       "    <tr>\n",
       "      <th>2</th>\n",
       "      <td>3</td>\n",
       "      <td>8655.329102</td>\n",
       "    </tr>\n",
       "    <tr>\n",
       "      <th>3</th>\n",
       "      <td>4</td>\n",
       "      <td>5666.340332</td>\n",
       "    </tr>\n",
       "    <tr>\n",
       "      <th>4</th>\n",
       "      <td>5</td>\n",
       "      <td>6373.983398</td>\n",
       "    </tr>\n",
       "  </tbody>\n",
       "</table>\n",
       "</div>"
      ],
      "text/plain": [
       "   Id        Sales\n",
       "0   1  4443.552734\n",
       "1   2  6995.912598\n",
       "2   3  8655.329102\n",
       "3   4  5666.340332\n",
       "4   5  6373.983398"
      ]
     },
     "execution_count": 60,
     "metadata": {},
     "output_type": "execute_result"
    }
   ],
   "source": [
    "sample_csv = pd.read_csv('dataset/rossmann/sample_submission.csv')\n",
    "sample_csv['Sales'] = y_pred_test\n",
    "sample_csv.head()"
   ]
  },
  {
   "cell_type": "code",
   "execution_count": 62,
   "metadata": {},
   "outputs": [],
   "source": [
    "sample_csv.to_csv(\n",
    "    # f'submision_{add_customers}-{log_output}-{output_activation}-{l2_lambda}-{first_hidden_units}-{epochs}-{batch_size}-{lr}.csv', \n",
    "    f'submision_baseline.csv', \n",
    "    index=False\n",
    ")\n"
   ]
  },
  {
   "cell_type": "code",
   "execution_count": null,
   "metadata": {},
   "outputs": [],
   "source": []
  }
 ],
 "metadata": {
  "kernelspec": {
   "display_name": "kaggle-rossmann",
   "language": "python",
   "name": "kaggle-rossmann"
  },
  "language_info": {
   "codemirror_mode": {
    "name": "ipython",
    "version": 3
   },
   "file_extension": ".py",
   "mimetype": "text/x-python",
   "name": "python",
   "nbconvert_exporter": "python",
   "pygments_lexer": "ipython3",
   "version": "3.9.16"
  }
 },
 "nbformat": 4,
 "nbformat_minor": 4
}
